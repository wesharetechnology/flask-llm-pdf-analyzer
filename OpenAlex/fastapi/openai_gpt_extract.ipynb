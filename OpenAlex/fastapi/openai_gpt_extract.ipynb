{
 "cells": [
  {
   "attachments": {},
   "cell_type": "markdown",
   "metadata": {},
   "source": [
    "## Use Chatgpt-3.5 API to perform Named Entity Recognition (NER) in a chemistry context"
   ]
  },
  {
   "attachments": {},
   "cell_type": "markdown",
   "metadata": {},
   "source": [
    "### Import Libraries and keys"
   ]
  },
  {
   "cell_type": "code",
   "execution_count": 4,
   "metadata": {},
   "outputs": [],
   "source": [
    "import os, sys\n",
    "import openai\n",
    "import re\n",
    "import PyPDF2\n",
    "import json\n",
    "import string\n",
    "from dotenv import load_dotenv, find_dotenv\n",
    "\n",
    "\n",
    "_ = load_dotenv(find_dotenv()) # read local .env file\n",
    "\n",
    "openai.proxy = os.getenv(\"HTTP_PROXY\") # set proxy if needed\n",
    "openai.api_key  = os.environ['OPENAI_API_KEY']"
   ]
  },
  {
   "attachments": {},
   "cell_type": "markdown",
   "metadata": {},
   "source": [
    "### Get ready for API call"
   ]
  },
  {
   "cell_type": "code",
   "execution_count": 9,
   "metadata": {},
   "outputs": [],
   "source": [
    "def get_completion_from_messages(messages, model=\"gpt-3.5-turbo\", temperature=0, max_tokens=1024):\n",
    "    response = openai.ChatCompletion.create(\n",
    "        model=model,\n",
    "        messages=messages,\n",
    "        temperature=temperature, \n",
    "        max_tokens=max_tokens, \n",
    "    )\n",
    "    return response.choices[0].message[\"content\"]"
   ]
  },
  {
   "attachments": {},
   "cell_type": "markdown",
   "metadata": {},
   "source": [
    "### Extract from PDF"
   ]
  },
  {
   "cell_type": "code",
   "execution_count": 5,
   "metadata": {},
   "outputs": [],
   "source": [
    "# caution: path[0] is reserved for script path (or '' in REPL)\n",
    "sys.path.insert(1, 'E:\\\\wymApp\\\\flask-llm-pdf-analyzer')\n",
    "\n",
    "def extract_pages(file_path):\n",
    "    \"\"\"\n",
    "    input: the PDF in current directory\n",
    "    output: a list of sentences\n",
    "    \"\"\"\n",
    "\n",
    "    all_pages = []\n",
    "    # Open the PDF file in binary mode\n",
    "    with open(file_path, 'rb') as pdf_file:\n",
    "\n",
    "        # Create a PDF reader object\n",
    "        pdf_reader = PyPDF2.PdfReader(pdf_file)\n",
    "        # Loop over each page in the file\n",
    "        for page_num in range(1, len(pdf_reader.pages)-2):\n",
    "            # Extract the text from the page\n",
    "            page = pdf_reader.pages[page_num]\n",
    "            text = page.extract_text()\n",
    "            all_pages.append(text)\n",
    "\n",
    "    # return all_sentences\n",
    "    return all_pages"
   ]
  },
  {
   "attachments": {},
   "cell_type": "markdown",
   "metadata": {},
   "source": [
    "#### Read PDF"
   ]
  },
  {
   "cell_type": "code",
   "execution_count": 6,
   "metadata": {},
   "outputs": [],
   "source": [
    "pdf_path = \"c:\\\\Users\\\\ywanglu\\\\Desktop\\\\Advanced Materials \\\n",
    "- 2022 - He - Cooperative Coupling of H2O2 Production and Organic Synthesis over a Floatable.pdf\"\n",
    "pages = extract_pages(pdf_path)"
   ]
  },
  {
   "attachments": {},
   "cell_type": "markdown",
   "metadata": {},
   "source": [
    "#### Prompt to extract PDF"
   ]
  },
  {
   "cell_type": "code",
   "execution_count": 18,
   "metadata": {},
   "outputs": [],
   "source": [
    "prompt = \"\"\"Please extract the names of chemical used in the text deliminated by triple backticks.\\\n",
    "        Summarize each chemical in one JSON object. Do not output anything if there is no chemical name.\\\n",
    "        The information of the chemical can be obtained from Sigma-Aldrich\\\n",
    "        here is the json structure:\\\n",
    "        {\n",
    "            \"chemical_name\": \"the name of a single chemical\",\n",
    "            \"chemical_desctiption\": \"the description of chemical\",\n",
    "            \"chemical_safety\": \"the safety information of the chemical\",\n",
    "        },\n",
    "        \"\"\""
   ]
  },
  {
   "cell_type": "code",
   "execution_count": 19,
   "metadata": {},
   "outputs": [
    {
     "name": "stdout",
     "output_type": "stream",
     "text": [
      "[{'chemical_name': 'titanium isopropoxide', 'chemical_description': 'Titanium isopropoxide is a chemical compound with the formula Ti(OCH(CH3)2)4. It is a colorless liquid that is used as a precursor for the synthesis of titanium dioxide nanoparticles.', 'chemical_safety': 'Titanium isopropoxide is flammable and can cause skin and eye irritation. It should be handled with care and stored in a cool, well-ventilated area.'}, {'chemical_name': 'hexadecylamine', 'chemical_description': 'Hexadecylamine is a long-chain primary amine with the formula CH3(CH2)15NH2. It is a white solid that is used as a surfactant and emulsifier in various industrial applications.', 'chemical_safety': 'Hexadecylamine is harmful if swallowed or inhaled. It can cause skin and eye irritation. It should be handled with care and stored in a cool, dry place.'}, {'chemical_name': 'ammonium hydroxide', 'chemical_description': 'Ammonium hydroxide is a solution of ammonia in water. It is a colorless liquid that is used as a cleaning agent and in various chemical processes.', 'chemical_safety': 'Ammonium hydroxide is corrosive and can cause severe burns. It should be handled with care and stored in a well-ventilated area.'}, {'chemical_name': 'bismuth nitrate pentahydrate', 'chemical_description': 'Bismuth nitrate pentahydrate is a chemical compound with the formula Bi(NO3)3·5H2O. It is a white crystalline solid that is used as a precursor for the synthesis of bismuth oxide nanoparticles.', 'chemical_safety': 'Bismuth nitrate pentahydrate is toxic if swallowed or inhaled. It can cause skin and eye irritation. It should be handled with care and stored in a cool, dry place.'}, {'chemical_name': 'ethylene glycol', 'chemical_description': 'Ethylene glycol is a chemical compound with the formula HOCH2CH2OH. It is a colorless liquid that is used as a solvent and antifreeze agent.', 'chemical_safety': 'Ethylene glycol is toxic if swallowed or inhaled. It can cause skin and eye irritation. It should be handled with care and stored in a well-ventilated area.'}, {'chemical_name': 'TBO40', 'chemical_description': 'TBO40 is a composite catalyst consisting of TiO2 and Bi2O3. It exhibits good hydrophobicity and is lightweight. TBO40 is used as a floatable photocatalyst for redox reactions at an air-liquid-solid interface.', 'chemical_safety': 'Safety information for TBO40 is not provided in the given text.'}, {'chemical_name': 'Bi2O3', 'chemical_description': 'Bi2O3 is a hydrophilic compound that is loaded onto TBO40 to enhance its photocatalytic performance. It contributes to the production of superoxide radical and hydroperoxide, as well as the oxidation of FFA into FA.', 'chemical_safety': 'Safety information for Bi2O3 is not provided in the given text.'}, {'chemical_name': 'FFA', 'chemical_description': 'FFA is an abbreviation for a compound that undergoes oxidation into FA by hydroxyl radical (•OH) during the photocatalytic process.', 'chemical_safety': 'Safety information for FFA is not provided in the given text.'}, {'chemical_name': 'FA', 'chemical_description': 'FA is a product formed through the oxidation of FFA by hydroxyl radical (•OH) during the photocatalytic process.', 'chemical_safety': 'Safety information for FA is not provided in the given text.'}, {'chemical_name': 'H2O2', 'chemical_description': 'H2O2 is produced during the photocatalytic process and its production is enhanced by the heterojunctions formed in TBOx. The loading proportion of Bi2O3 affects the yield of H2O2, with TBO40 showing the highest production.', 'chemical_safety': 'Safety information for H2O2 is not provided in the given text.'}, {'chemical_name': 'TO', 'chemical_description': 'TO is a single-component catalyst consisting of TiO2. It shows low formation rates and high decomposition rates of H2O2 during the photocatalytic process.', 'chemical_safety': 'Safety information for TO is not provided in the given text.'}, {'chemical_name': 'BO', 'chemical_description': 'BO is a single-component catalyst consisting of Bi2O3. It shows low formation rates and high decomposition rates of H2O2 during the photocatalytic process.', 'chemical_safety': 'Safety information for BO is not provided in the given text.'}, {'chemical_name': 'Bi2O3', 'chemical_description': 'Bismuth(III) oxide, also known as bismuth trioxide, is a yellow solid compound that is used as a catalyst and in the production of ceramics and glass.', 'chemical_safety': 'Bismuth(III) oxide is considered to be non-toxic and poses no significant health hazards. However, it should be handled with care to avoid inhalation or ingestion.'}, {'chemical_name': 'H2O2', 'chemical_description': 'Hydrogen peroxide is a clear, colorless liquid that is commonly used as a disinfectant, bleaching agent, and oxidizer. It is a powerful oxidizing agent and can react violently with combustible materials.', 'chemical_safety': 'Hydrogen peroxide is a strong oxidizer and can cause skin and eye irritation. It should be handled with caution and stored in a cool, well-ventilated area away from flammable substances.'}, {'chemical_name': 'H+', 'chemical_description': 'Hydrogen ion, also known as a proton, is a positively charged particle that is involved in various chemical reactions. It plays a crucial role in acid-base chemistry.', 'chemical_safety': 'Hydrogen ions are not typically handled as standalone chemicals, but rather as components of other compounds. Safety precautions should be taken based on the specific compound in which hydrogen ions are present.'}, {'chemical_name': 'e-', 'chemical_description': 'Electron is a subatomic particle with a negative charge. It is involved in various chemical reactions and plays a crucial role in the transfer of energy and the formation of chemical bonds.', 'chemical_safety': 'Electrons are not typically handled as standalone chemicals, but rather as components of other compounds. Safety precautions should be taken based on the specific compound in which electrons are present.'}, {'chemical_name': 'O2', 'chemical_description': 'Oxygen gas is a colorless, odorless gas that is essential for the survival of most living organisms. It is involved in various chemical reactions and is a key component of air.', 'chemical_safety': 'Oxygen gas is not typically handled as a standalone chemical, but rather as a component of air or other mixtures. Safety precautions should be taken based on the specific conditions in which oxygen gas is present.'}, {'chemical_name': 'FA', 'chemical_description': 'Fatty acid, also known as FA, is a carboxylic acid that is commonly found in fats and oils. It is an important component of biological membranes and is involved in various metabolic processes.', 'chemical_safety': 'Fatty acids are generally considered to be safe for use in biological systems. However, specific safety precautions should be taken based on the specific fatty acid compound and its intended use.'}, {'chemical_name': 'TBO40', 'chemical_description': 'The specific chemical description of TBO40 is not provided in the given text. Additional information is required to provide a detailed description of this chemical.', 'chemical_safety': 'The specific safety information of TBO40 is not provided in the given text. Additional information is required to provide safety precautions for this chemical.'}, {'chemical_name': 'TO', 'chemical_description': 'The specific chemical description of TO is not provided in the given text. Additional information is required to provide a detailed description of this chemical.', 'chemical_safety': 'The specific safety information of TO is not provided in the given text. Additional information is required to provide safety precautions for this chemical.'}, {'chemical_name': 'BO', 'chemical_description': 'The specific chemical description of BO is not provided in the given text. Additional information is required to provide a detailed description of this chemical.', 'chemical_safety': 'The specific safety information of BO is not provided in the given text. Additional information is required to provide safety precautions for this chemical.'}, {'chemical_name': 'H2O2', 'chemical_description': 'Hydrogen peroxide is a chemical compound with the formula H2O2. It is a pale blue liquid that appears colorless in a dilute solution, and it is a powerful oxidizer. It is commonly used as a disinfectant, bleaching agent, and in various industrial processes.', 'chemical_safety': 'Hydrogen peroxide can cause skin and eye irritation, and it can be harmful if ingested or inhaled in high concentrations. It should be handled with care and stored in a cool, well-ventilated area away from flammable substances.'}]\n"
     ]
    }
   ],
   "source": [
    "responses = []\n",
    "\n",
    "for i in range(len(pages)):\n",
    "    user_message = f\"\"\"```{pages[i]}```\n",
    "                    {prompt}\"\"\"\n",
    "    messages = [\n",
    "        {'role': 'user', 'content': user_message},\n",
    "    ]\n",
    "    response = get_completion_from_messages(messages)\n",
    "\n",
    "    # clear the non-english input\n",
    "\n",
    "    try:\n",
    "\n",
    "        response = response.replace(\"\"\"}\\n{\"\"\" , \"\"\"},\\n{\"\"\")\n",
    "        response = response.replace(\"\"\"} \\n{\"\"\" , \"\"\"},\\n{\"\"\")\n",
    "        data = json.loads(\"[\" + response + \"]\") # add [] to accord to json syntax\n",
    "\n",
    "    except json.decoder.JSONDecodeError:\n",
    "        continue\n",
    "    # combine the json output\n",
    "    try:\n",
    "        responses.extend(data)\n",
    "    except KeyError:\n",
    "        continue\n",
    "print(responses)"
   ]
  },
  {
   "attachments": {},
   "cell_type": "markdown",
   "metadata": {},
   "source": [
    "### Clean the extracted data"
   ]
  },
  {
   "cell_type": "code",
   "execution_count": 16,
   "metadata": {},
   "outputs": [],
   "source": [
    "def contains_punctuation(s):\n",
    "    \"\"\"\n",
    "    Returns True if the input string contains any punctuation characters, False otherwise.\n",
    "    \"\"\"\n",
    "    for c in s:\n",
    "        if c in string.punctuation:\n",
    "            return True\n",
    "    return False\n",
    "    \n",
    "def remove_duplicate(responses):\n",
    "    \"\"\"\n",
    "    input: a list of json objects\n",
    "    output: a list of json objects without duplicate chemical names\n",
    "    \"\"\"\n",
    "    chemical_names = set()\n",
    "    new_responses = []\n",
    "    for obj in responses:\n",
    "        if obj['chemical_name'] not in chemical_names and \\\n",
    "        not contains_punctuation(obj['chemical_name']):\n",
    "            chemical_names.add(obj['chemical_name'])\n",
    "            new_responses.append(obj)\n",
    "    return new_responses"
   ]
  },
  {
   "attachments": {},
   "cell_type": "markdown",
   "metadata": {},
   "source": [
    "### Check the results"
   ]
  },
  {
   "cell_type": "code",
   "execution_count": 17,
   "metadata": {},
   "outputs": [
    {
     "name": "stdout",
     "output_type": "stream",
     "text": [
      "[\n",
      "    {\n",
      "        \"chemical_name\": \"titanium isopropoxide\",\n",
      "        \"chemical_description\": \"Titanium isopropoxide is a chemical compound with the formula Ti(OCH(CH3)2)4. It is a colorless liquid that is used as a precursor for the synthesis of titanium dioxide nanoparticles.\",\n",
      "        \"chemical_safety\": \"Titanium isopropoxide is flammable and can cause skin and eye irritation. It should be handled with care and stored in a cool, well-ventilated area.\"\n",
      "    },\n",
      "    {\n",
      "        \"chemical_name\": \"hexadecylamine\",\n",
      "        \"chemical_description\": \"Hexadecylamine is a long-chain primary amine with the formula CH3(CH2)15NH2. It is a white solid that is used as a surfactant and emulsifier in various industrial applications.\",\n",
      "        \"chemical_safety\": \"Hexadecylamine is harmful if swallowed or inhaled. It can cause skin and eye irritation. It should be handled with care and stored in a cool, dry place.\"\n",
      "    },\n",
      "    {\n",
      "        \"chemical_name\": \"ammonium hydroxide\",\n",
      "        \"chemical_description\": \"Ammonium hydroxide is a solution of ammonia in water. It is a colorless liquid that is used as a cleaning agent and in various chemical processes.\",\n",
      "        \"chemical_safety\": \"Ammonium hydroxide is corrosive and can cause severe burns. It should be handled with care and stored in a well-ventilated area.\"\n",
      "    },\n",
      "    {\n",
      "        \"chemical_name\": \"bismuth nitrate pentahydrate\",\n",
      "        \"chemical_description\": \"Bismuth nitrate pentahydrate is a chemical compound with the formula Bi(NO3)3\\u00b75H2O. It is a white crystalline solid that is used as a precursor for the synthesis of bismuth oxide nanoparticles.\",\n",
      "        \"chemical_safety\": \"Bismuth nitrate pentahydrate is toxic if swallowed or inhaled. It can cause skin and eye irritation. It should be handled with care and stored in a cool, dry place.\"\n",
      "    },\n",
      "    {\n",
      "        \"chemical_name\": \"ethylene glycol\",\n",
      "        \"chemical_description\": \"Ethylene glycol is a chemical compound with the formula HOCH2CH2OH. It is a colorless liquid that is used as a solvent and antifreeze agent.\",\n",
      "        \"chemical_safety\": \"Ethylene glycol is toxic if swallowed or inhaled. It can cause skin and eye irritation. It should be handled with care and stored in a well-ventilated area.\"\n",
      "    },\n",
      "    {\n",
      "        \"chemical_name\": \"TBO40\",\n",
      "        \"chemical_description\": \"TBO40 is a composite catalyst consisting of TiO2 and Bi2O3. It exhibits good hydrophobicity and is lightweight. TBO40 is used as a floatable photocatalyst for redox reactions at an air-liquid-solid interface.\",\n",
      "        \"chemical_safety\": \"Safety information for TBO40 is not provided in the given text.\"\n",
      "    },\n",
      "    {\n",
      "        \"chemical_name\": \"Bi2O3\",\n",
      "        \"chemical_description\": \"Bi2O3 is a hydrophilic compound that is loaded onto TBO40 to enhance its photocatalytic performance. It contributes to the production of superoxide radical and hydroperoxide, as well as the oxidation of FFA into FA.\",\n",
      "        \"chemical_safety\": \"Safety information for Bi2O3 is not provided in the given text.\"\n",
      "    },\n",
      "    {\n",
      "        \"chemical_name\": \"FFA\",\n",
      "        \"chemical_description\": \"FFA is an abbreviation for a compound that undergoes oxidation into FA by hydroxyl radical (\\u2022OH) during the photocatalytic process.\",\n",
      "        \"chemical_safety\": \"Safety information for FFA is not provided in the given text.\"\n",
      "    },\n",
      "    {\n",
      "        \"chemical_name\": \"FA\",\n",
      "        \"chemical_description\": \"FA is a product formed through the oxidation of FFA by hydroxyl radical (\\u2022OH) during the photocatalytic process.\",\n",
      "        \"chemical_safety\": \"Safety information for FA is not provided in the given text.\"\n",
      "    },\n",
      "    {\n",
      "        \"chemical_name\": \"H2O2\",\n",
      "        \"chemical_description\": \"H2O2 is produced during the photocatalytic process and its production is enhanced by the heterojunctions formed in TBOx. The loading proportion of Bi2O3 affects the yield of H2O2, with TBO40 showing the highest production.\",\n",
      "        \"chemical_safety\": \"Safety information for H2O2 is not provided in the given text.\"\n",
      "    },\n",
      "    {\n",
      "        \"chemical_name\": \"TO\",\n",
      "        \"chemical_description\": \"TO is a single-component catalyst consisting of TiO2. It shows low formation rates and high decomposition rates of H2O2 during the photocatalytic process.\",\n",
      "        \"chemical_safety\": \"Safety information for TO is not provided in the given text.\"\n",
      "    },\n",
      "    {\n",
      "        \"chemical_name\": \"BO\",\n",
      "        \"chemical_description\": \"BO is a single-component catalyst consisting of Bi2O3. It shows low formation rates and high decomposition rates of H2O2 during the photocatalytic process.\",\n",
      "        \"chemical_safety\": \"Safety information for BO is not provided in the given text.\"\n",
      "    }\n",
      "]\n"
     ]
    }
   ],
   "source": [
    "result = remove_duplicate(responses)\n",
    "print(json.dumps(result, indent=4))"
   ]
  }
 ],
 "metadata": {
  "kernelspec": {
   "display_name": "base",
   "language": "python",
   "name": "python3"
  },
  "language_info": {
   "codemirror_mode": {
    "name": "ipython",
    "version": 3
   },
   "file_extension": ".py",
   "mimetype": "text/x-python",
   "name": "python",
   "nbconvert_exporter": "python",
   "pygments_lexer": "ipython3",
   "version": "3.9.12"
  },
  "orig_nbformat": 4
 },
 "nbformat": 4,
 "nbformat_minor": 2
}
