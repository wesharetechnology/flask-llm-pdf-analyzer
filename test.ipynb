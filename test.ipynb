{
  "cells": [
    {
      "attachments": {},
      "cell_type": "markdown",
      "metadata": {
        "id": "gDICaRjvJovb"
      },
      "source": [
        "## scrawl the information of the 20 most recent papers\n",
        "Input:\n",
        "- `url`: the url of the scholar\n",
        "- `NUM_PAPERS`: the number of papers to be scrawled\n",
        "\n",
        "Output:\n",
        "- a json structure\n",
        "    ```json\n",
        "    {\n",
        "        \"author\": \"author_name\",\n",
        "        \"paper\": \"paper_title\",\n",
        "        \"journal\": \"journal_name\",\n",
        "    }\n",
        "    ```\n",
        "Output is used to construct the graph database.\n",
        "- `(Author {peron_name})-[:IS_AUTHOR]->(Paper {title})-[:PUBLISHED_IN]->(Journal {journal_name})`\n"
      ]
    },
    {
      "cell_type": "code",
      "execution_count": 9,
      "metadata": {
        "id": "q3CsBKpMJovj"
      },
      "outputs": [],
      "source": [
        "from selenium import webdriver\n",
        "from selenium.webdriver.chrome.service import Service\n",
        "from selenium.webdriver.common.by import By\n",
        "from selenium.webdriver.chrome.options import Options\n",
        "from selenium.webdriver.common.action_chains import ActionChains\n",
        "from selenium.webdriver.common.keys import Keys\n",
        "from selenium.webdriver.support.ui import WebDriverWait\n",
        "from selenium.webdriver.support import expected_conditions as EC\n",
        "import json\n",
        "import ipywidgets as widgets\n",
        "import pandas as pd\n",
        "NUM_PAPERS = 20\n",
        "\n",
        "# Path to the ChromeDriver executable that matches the installed Chrome browser version\n",
        "chromedriver_path = \"D:\\Hackust\\chromedriver.exe\"\n",
        "\n",
        "# Configure Chrome options\n",
        "chrome_options = Options()\n",
        "chrome_options.add_argument(\"--headless\")  # Run Chrome in headless mode\n",
        "\n",
        "# Set up the ChromeDriver service\n",
        "service = Service(chromedriver_path)\n",
        "\n",
        "# Launch the Chrome browser\n",
        "driver = webdriver.Chrome(service=service, options=chrome_options)\n",
        "\n",
        "# Define the URL for Prof. Yang Jinglei's Google Scholar profile\n",
        "url = \"https://scholar.google.com/citations?view_op=list_works&hl=en&hl=en&user=7wCHYtgAAAAJ&sortby=pubdate\"\n",
        "# get the url from ipywidget text box\n",
        "\n",
        "\n",
        "# Load the Google Scholar profile page\n",
        "driver.get(url)\n",
        "\n",
        "# Wait for the page to load and find the list of papers\n",
        "wait = WebDriverWait(driver, 10)\n",
        "papers = wait.until(EC.presence_of_all_elements_located((By.CSS_SELECTOR, \".gsc_a_tr\")))\n",
        "\n",
        "# create a json object to store the data\n",
        "dataset = []\n",
        "\n",
        "for i in range(NUM_PAPERS):\n",
        "    title_element = driver.find_element(\"xpath\", '//*[@id=\"gsc_a_b\"]/tr[' + str(i+1) + ']/td[1]/a')\n",
        "    title = title_element.text\n",
        "    # jump to the new page\n",
        "    title_element.click()\n",
        "    wait.until(EC.staleness_of(title_element))\n",
        "    # extract the coauthors and journal\n",
        "    coauthors = driver.find_element(\"xpath\", '//*[@id=\"gsc_oci_table\"]/div[1]/div[2]').text\n",
        "    # list of authors\n",
        "    coauthor_list = coauthors.split(', ')\n",
        "    journal = driver.find_element(\"xpath\", '//*[@id=\"gsc_oci_table\"]/div[3]/div[2]').text\n",
        "    # output author, papers, journal in json format\n",
        "    for author in coauthor_list:\n",
        "        dataset.append({\n",
        "            'author': author,\n",
        "            'paper_title': title,\n",
        "            'journal': journal\n",
        "        })\n",
        "    # jump back to the previous page\n",
        "    driver.back()\n",
        "# Quit the browser\n",
        "driver.quit()"
      ]
    },
    {
      "cell_type": "markdown",
      "metadata": {
        "id": "GKGKZz41Jovm"
      },
      "source": [
        "## construct neo4j graph demo"
      ]
    },
    {
      "cell_type": "code",
      "execution_count": 12,
      "metadata": {
        "id": "CaGWoe0wJovp"
      },
      "outputs": [],
      "source": [
        "from dotenv import load_dotenv\n",
        "import os\n",
        "\n",
        "# Load environment variables from .env file\n",
        "load_dotenv()\n",
        "\n",
        "# Access the environment variables\n",
        "db_password = os.getenv(\"DB_PASSWORD\")\n"
      ]
    },
    {
      "cell_type": "code",
      "execution_count": 14,
      "metadata": {
        "id": "pXWjBFweJovp",
        "outputId": "7adf4163-7c69-44cf-edec-6f32b066d106"
      },
      "outputs": [
        {
          "data": {
            "text/html": [
              "<div>\n",
              "<style scoped>\n",
              "    .dataframe tbody tr th:only-of-type {\n",
              "        vertical-align: middle;\n",
              "    }\n",
              "\n",
              "    .dataframe tbody tr th {\n",
              "        vertical-align: top;\n",
              "    }\n",
              "\n",
              "    .dataframe thead th {\n",
              "        text-align: right;\n",
              "    }\n",
              "</style>\n",
              "<table border=\"1\" class=\"dataframe\">\n",
              "  <thead>\n",
              "    <tr style=\"text-align: right;\">\n",
              "      <th></th>\n",
              "      <th>author</th>\n",
              "      <th>paper_title</th>\n",
              "      <th>journal</th>\n",
              "    </tr>\n",
              "  </thead>\n",
              "  <tbody>\n",
              "    <tr>\n",
              "      <th>0</th>\n",
              "      <td>Miracle Hope Adegun</td>\n",
              "      <td>Anisotropic thermally superinsulating boron ni...</td>\n",
              "      <td>Composites Part A: Applied Science and Manufac...</td>\n",
              "    </tr>\n",
              "    <tr>\n",
              "      <th>1</th>\n",
              "      <td>Kit-Ying Chan</td>\n",
              "      <td>Anisotropic thermally superinsulating boron ni...</td>\n",
              "      <td>Composites Part A: Applied Science and Manufac...</td>\n",
              "    </tr>\n",
              "    <tr>\n",
              "      <th>2</th>\n",
              "      <td>Jie Yang</td>\n",
              "      <td>Anisotropic thermally superinsulating boron ni...</td>\n",
              "      <td>Composites Part A: Applied Science and Manufac...</td>\n",
              "    </tr>\n",
              "    <tr>\n",
              "      <th>3</th>\n",
              "      <td>Harun Venkatesan</td>\n",
              "      <td>Anisotropic thermally superinsulating boron ni...</td>\n",
              "      <td>Composites Part A: Applied Science and Manufac...</td>\n",
              "    </tr>\n",
              "    <tr>\n",
              "      <th>4</th>\n",
              "      <td>Eunyoung Kim</td>\n",
              "      <td>Anisotropic thermally superinsulating boron ni...</td>\n",
              "      <td>Composites Part A: Applied Science and Manufac...</td>\n",
              "    </tr>\n",
              "  </tbody>\n",
              "</table>\n",
              "</div>"
            ],
            "text/plain": [
              "                author                                        paper_title  \\\n",
              "0  Miracle Hope Adegun  Anisotropic thermally superinsulating boron ni...   \n",
              "1        Kit-Ying Chan  Anisotropic thermally superinsulating boron ni...   \n",
              "2             Jie Yang  Anisotropic thermally superinsulating boron ni...   \n",
              "3     Harun Venkatesan  Anisotropic thermally superinsulating boron ni...   \n",
              "4         Eunyoung Kim  Anisotropic thermally superinsulating boron ni...   \n",
              "\n",
              "                                             journal  \n",
              "0  Composites Part A: Applied Science and Manufac...  \n",
              "1  Composites Part A: Applied Science and Manufac...  \n",
              "2  Composites Part A: Applied Science and Manufac...  \n",
              "3  Composites Part A: Applied Science and Manufac...  \n",
              "4  Composites Part A: Applied Science and Manufac...  "
            ]
          },
          "execution_count": 14,
          "metadata": {},
          "output_type": "execute_result"
        }
      ],
      "source": [
        "import json\n",
        "\n",
        "# Open the JSON file and load the data\n",
        "with open('data.json', 'r') as file:\n",
        "    dataset = json.load(file)\n",
        "\n",
        "df = pd.DataFrame(dataset)\n",
        "df.head()\n"
      ]
    },
    {
      "cell_type": "code",
      "execution_count": 15,
      "metadata": {},
      "outputs": [
        {
          "data": {
            "text/html": [
              "<div>\n",
              "<style scoped>\n",
              "    .dataframe tbody tr th:only-of-type {\n",
              "        vertical-align: middle;\n",
              "    }\n",
              "\n",
              "    .dataframe tbody tr th {\n",
              "        vertical-align: top;\n",
              "    }\n",
              "\n",
              "    .dataframe thead th {\n",
              "        text-align: right;\n",
              "    }\n",
              "</style>\n",
              "<table border=\"1\" class=\"dataframe\">\n",
              "  <thead>\n",
              "    <tr style=\"text-align: right;\">\n",
              "      <th></th>\n",
              "      <th>author</th>\n",
              "      <th>paper_title</th>\n",
              "      <th>journal</th>\n",
              "    </tr>\n",
              "  </thead>\n",
              "  <tbody>\n",
              "    <tr>\n",
              "      <th>count</th>\n",
              "      <td>153</td>\n",
              "      <td>153</td>\n",
              "      <td>153</td>\n",
              "    </tr>\n",
              "    <tr>\n",
              "      <th>unique</th>\n",
              "      <td>104</td>\n",
              "      <td>20</td>\n",
              "      <td>18</td>\n",
              "    </tr>\n",
              "    <tr>\n",
              "      <th>top</th>\n",
              "      <td>Jinglei Yang</td>\n",
              "      <td>Bioinspired Chromotropic Ionic Skin with In‐Pl...</td>\n",
              "      <td>Advanced Functional Materials</td>\n",
              "    </tr>\n",
              "    <tr>\n",
              "      <th>freq</th>\n",
              "      <td>20</td>\n",
              "      <td>12</td>\n",
              "      <td>24</td>\n",
              "    </tr>\n",
              "  </tbody>\n",
              "</table>\n",
              "</div>"
            ],
            "text/plain": [
              "              author                                        paper_title  \\\n",
              "count            153                                                153   \n",
              "unique           104                                                 20   \n",
              "top     Jinglei Yang  Bioinspired Chromotropic Ionic Skin with In‐Pl...   \n",
              "freq              20                                                 12   \n",
              "\n",
              "                              journal  \n",
              "count                             153  \n",
              "unique                             18  \n",
              "top     Advanced Functional Materials  \n",
              "freq                               24  "
            ]
          },
          "execution_count": 15,
          "metadata": {},
          "output_type": "execute_result"
        }
      ],
      "source": [
        "df.describe()"
      ]
    },
    {
      "attachments": {},
      "cell_type": "markdown",
      "metadata": {},
      "source": [
        "## Connect to neo4j desktop, build graph"
      ]
    },
    {
      "cell_type": "code",
      "execution_count": null,
      "metadata": {
        "id": "u_aYtKIhJovq",
        "outputId": "9248599c-1a04-478c-814f-c8ec026596f2"
      },
      "outputs": [
        {
          "name": "stderr",
          "output_type": "stream",
          "text": [
            "\n",
            "KeyboardInterrupt\n",
            "\n"
          ]
        }
      ],
      "source": [
        "from neo4j import GraphDatabase\n",
        "\n",
        "# Connect to Neo4j\n",
        "uri = \"neo4j+s://0c5ddeaa.databases.neo4j.io\"  # Update with your Neo4j server URI\n",
        "username = \"neo4j\"  # Update with your Neo4j username\n",
        "password = db_password  # Update with your Neo4j password\n",
        "\n",
        "db_driver = GraphDatabase.driver(uri, auth=(username, password))\n",
        "\n",
        "# Create the dataset in Neo4j\n",
        "def create_dataset(tx, data):\n",
        "    for record in data:\n",
        "        tx.run(\n",
        "            \"\"\"\n",
        "            MERGE (a:Author {name: $author})\n",
        "            MERGE (p:Paper {title: $paper_title})\n",
        "            MERGE (j:Journal {name: $journal})\n",
        "            MERGE (a)-[:IS_AUTHOR]->(p)\n",
        "            MERGE (p)-[:PUBLISHED_IN]->(j)\n",
        "            \"\"\",\n",
        "            author=record[\"author\"],\n",
        "            paper_title=record[\"paper_title\"],\n",
        "            journal=record[\"journal\"]\n",
        "        )\n",
        "\n",
        "# Execute the dataset creation\n",
        "with db_driver.session() as session:\n",
        "    session.execute_write(create_dataset, dataset)\n",
        "\n",
        "# Close the Neo4j driver\n",
        "driver.close()"
      ]
    },
    {
      "attachments": {},
      "cell_type": "markdown",
      "metadata": {},
      "source": [
        "## Testing python scholarly package (google scholar api)\n",
        "input:\n",
        "- Name of the author: 'Jinglei Yang'\n",
        "\n",
        "output:\n",
        "- Information of a list of publications"
      ]
    },
    {
      "cell_type": "code",
      "execution_count": 18,
      "metadata": {
        "id": "xjyRfFXaJovr",
        "outputId": "e99cc79a-5afd-4222-c3da-f3329c2ba79a"
      },
      "outputs": [],
      "source": [
        "from scholarly import scholarly, ProxyGenerator\n",
        "\n",
        "pg = ProxyGenerator()\n",
        "pg.FreeProxies(timeout=10, wait_time=1200)\n",
        "scholarly.use_proxy(pg)\n",
        "\n",
        "def get_recent_publications(person_name):\n",
        "    search_query = scholarly.search_author(person_name)\n",
        "    author = scholarly.fill(next(search_query))\n",
        "    publications = author[\"publications\"]\n",
        "    return publications[-11:-1]\n"
      ]
    },
    {
      "cell_type": "code",
      "execution_count": 20,
      "metadata": {},
      "outputs": [
        {
          "data": {
            "application/vnd.jupyter.widget-view+json": {
              "model_id": "2d0429dd65184683b28f2d493a8837da",
              "version_major": 2,
              "version_minor": 0
            },
            "text/plain": [
              "Text(value='')"
            ]
          },
          "metadata": {},
          "output_type": "display_data"
        }
      ],
      "source": [
        "import ipywidgets as widgets\n",
        "text = widgets.Text()\n",
        "display(text)"
      ]
    },
    {
      "cell_type": "code",
      "execution_count": 21,
      "metadata": {},
      "outputs": [
        {
          "data": {
            "text/html": [
              "<div>\n",
              "<style scoped>\n",
              "    .dataframe tbody tr th:only-of-type {\n",
              "        vertical-align: middle;\n",
              "    }\n",
              "\n",
              "    .dataframe tbody tr th {\n",
              "        vertical-align: top;\n",
              "    }\n",
              "\n",
              "    .dataframe thead th {\n",
              "        text-align: right;\n",
              "    }\n",
              "</style>\n",
              "<table border=\"1\" class=\"dataframe\">\n",
              "  <thead>\n",
              "    <tr style=\"text-align: right;\">\n",
              "      <th></th>\n",
              "      <th>container_type</th>\n",
              "      <th>source</th>\n",
              "      <th>bib</th>\n",
              "      <th>filled</th>\n",
              "      <th>author_pub_id</th>\n",
              "      <th>num_citations</th>\n",
              "      <th>citedby_url</th>\n",
              "      <th>cites_id</th>\n",
              "    </tr>\n",
              "  </thead>\n",
              "  <tbody>\n",
              "    <tr>\n",
              "      <th>0</th>\n",
              "      <td>Publication</td>\n",
              "      <td>PublicationSource.AUTHOR_PUBLICATION_ENTRY</td>\n",
              "      <td>{'title': 'One-Part Self-Healing Anticorrosive...</td>\n",
              "      <td>False</td>\n",
              "      <td>7wCHYtgAAAAJ:LXmCCkuhhTsC</td>\n",
              "      <td>1</td>\n",
              "      <td>https://scholar.google.com/scholar?oi=bibs&amp;hl=...</td>\n",
              "      <td>[13011278111769582254]</td>\n",
              "    </tr>\n",
              "    <tr>\n",
              "      <th>1</th>\n",
              "      <td>Publication</td>\n",
              "      <td>PublicationSource.AUTHOR_PUBLICATION_ENTRY</td>\n",
              "      <td>{'title': 'Investigation on internal microstru...</td>\n",
              "      <td>False</td>\n",
              "      <td>7wCHYtgAAAAJ:silx2ntsSuwC</td>\n",
              "      <td>1</td>\n",
              "      <td>https://scholar.google.com/scholar?oi=bibs&amp;hl=...</td>\n",
              "      <td>[16992861565703087377]</td>\n",
              "    </tr>\n",
              "    <tr>\n",
              "      <th>2</th>\n",
              "      <td>Publication</td>\n",
              "      <td>PublicationSource.AUTHOR_PUBLICATION_ENTRY</td>\n",
              "      <td>{'title': 'Development of Sulfonamide‐Function...</td>\n",
              "      <td>False</td>\n",
              "      <td>7wCHYtgAAAAJ:hvmnpdAuIbkC</td>\n",
              "      <td>0</td>\n",
              "      <td>NaN</td>\n",
              "      <td>NaN</td>\n",
              "    </tr>\n",
              "    <tr>\n",
              "      <th>3</th>\n",
              "      <td>Publication</td>\n",
              "      <td>PublicationSource.AUTHOR_PUBLICATION_ENTRY</td>\n",
              "      <td>{'title': 'RFID with Multi-Sensing&amp;Blockchain ...</td>\n",
              "      <td>False</td>\n",
              "      <td>7wCHYtgAAAAJ:MIg0yeAD4ggC</td>\n",
              "      <td>0</td>\n",
              "      <td>NaN</td>\n",
              "      <td>NaN</td>\n",
              "    </tr>\n",
              "    <tr>\n",
              "      <th>4</th>\n",
              "      <td>Publication</td>\n",
              "      <td>PublicationSource.AUTHOR_PUBLICATION_ENTRY</td>\n",
              "      <td>{'title': 'Influence of Porosity on the Mechan...</td>\n",
              "      <td>False</td>\n",
              "      <td>7wCHYtgAAAAJ:Wq2b2clWBLsC</td>\n",
              "      <td>0</td>\n",
              "      <td>NaN</td>\n",
              "      <td>NaN</td>\n",
              "    </tr>\n",
              "  </tbody>\n",
              "</table>\n",
              "</div>"
            ],
            "text/plain": [
              "  container_type                                      source  \\\n",
              "0    Publication  PublicationSource.AUTHOR_PUBLICATION_ENTRY   \n",
              "1    Publication  PublicationSource.AUTHOR_PUBLICATION_ENTRY   \n",
              "2    Publication  PublicationSource.AUTHOR_PUBLICATION_ENTRY   \n",
              "3    Publication  PublicationSource.AUTHOR_PUBLICATION_ENTRY   \n",
              "4    Publication  PublicationSource.AUTHOR_PUBLICATION_ENTRY   \n",
              "\n",
              "                                                 bib  filled  \\\n",
              "0  {'title': 'One-Part Self-Healing Anticorrosive...   False   \n",
              "1  {'title': 'Investigation on internal microstru...   False   \n",
              "2  {'title': 'Development of Sulfonamide‐Function...   False   \n",
              "3  {'title': 'RFID with Multi-Sensing&Blockchain ...   False   \n",
              "4  {'title': 'Influence of Porosity on the Mechan...   False   \n",
              "\n",
              "               author_pub_id  num_citations  \\\n",
              "0  7wCHYtgAAAAJ:LXmCCkuhhTsC              1   \n",
              "1  7wCHYtgAAAAJ:silx2ntsSuwC              1   \n",
              "2  7wCHYtgAAAAJ:hvmnpdAuIbkC              0   \n",
              "3  7wCHYtgAAAAJ:MIg0yeAD4ggC              0   \n",
              "4  7wCHYtgAAAAJ:Wq2b2clWBLsC              0   \n",
              "\n",
              "                                         citedby_url                cites_id  \n",
              "0  https://scholar.google.com/scholar?oi=bibs&hl=...  [13011278111769582254]  \n",
              "1  https://scholar.google.com/scholar?oi=bibs&hl=...  [16992861565703087377]  \n",
              "2                                                NaN                     NaN  \n",
              "3                                                NaN                     NaN  \n",
              "4                                                NaN                     NaN  "
            ]
          },
          "execution_count": 21,
          "metadata": {},
          "output_type": "execute_result"
        }
      ],
      "source": [
        "# example usage\n",
        "person_name = text.value\n",
        "recent_publications = get_recent_publications(person_name)\n",
        "df = pd.DataFrame(recent_publications)\n",
        "df.head()"
      ]
    },
    {
      "attachments": {},
      "cell_type": "markdown",
      "metadata": {},
      "source": [
        "## Search by titles\n",
        "can get cited url for citation information, but cannot access the cited url because of captcha. The api is not stable either"
      ]
    },
    {
      "cell_type": "code",
      "execution_count": 28,
      "metadata": {
        "id": "piszuPoMJovt",
        "outputId": "7b54d22f-c5bd-4577-ff54-0d6cf1bfc610"
      },
      "outputs": [],
      "source": [
        "from scholarly import scholarly\n",
        "import json\n",
        "\n",
        "def get_cited_articles(publication_title):\n",
        "    if publication_title == None:\n",
        "        return None\n",
        "    search_query = scholarly.search_pubs(publication_title)\n",
        "    data = next(search_query)\n",
        "    return data"
      ]
    },
    {
      "cell_type": "code",
      "execution_count": 26,
      "metadata": {
        "colab": {
          "referenced_widgets": [
            "a5153390910b4d01a589533e8fddc8b7"
          ]
        },
        "id": "6ZDxk-3hJovs",
        "outputId": "d190d291-2188-4c7f-eabd-0d1e538f9106"
      },
      "outputs": [
        {
          "data": {
            "application/vnd.jupyter.widget-view+json": {
              "model_id": "b5bbf90de7104151a96168cc29225f57",
              "version_major": 2,
              "version_minor": 0
            },
            "text/plain": [
              "Text(value='', description='Input title')"
            ]
          },
          "metadata": {},
          "output_type": "display_data"
        }
      ],
      "source": [
        "import ipywidgets as widgets\n",
        "from IPython.display import display\n",
        "# Create a text widget\n",
        "text = widgets.Text(description=\"Input title\")\n",
        "# Display widget\n",
        "display(text)"
      ]
    },
    {
      "cell_type": "code",
      "execution_count": 30,
      "metadata": {},
      "outputs": [
        {
          "ename": "MaxTriesExceededException",
          "evalue": "Cannot Fetch from Google Scholar.",
          "output_type": "error",
          "traceback": [
            "\u001b[1;31m---------------------------------------------------------------------------\u001b[0m",
            "\u001b[1;31mMaxTriesExceededException\u001b[0m                 Traceback (most recent call last)",
            "\u001b[1;32md:\\wym_project\\flask-llm-pdf-analyzer\\test.ipynb Cell 16\u001b[0m in \u001b[0;36m2\n\u001b[0;32m      <a href='vscode-notebook-cell:/d%3A/wym_project/flask-llm-pdf-analyzer/test.ipynb#X43sZmlsZQ%3D%3D?line=0'>1</a>\u001b[0m publication_title \u001b[39m=\u001b[39m text\u001b[39m.\u001b[39mvalue\n\u001b[1;32m----> <a href='vscode-notebook-cell:/d%3A/wym_project/flask-llm-pdf-analyzer/test.ipynb#X43sZmlsZQ%3D%3D?line=1'>2</a>\u001b[0m cited_articles \u001b[39m=\u001b[39m get_cited_articles(publication_title)\n\u001b[0;32m      <a href='vscode-notebook-cell:/d%3A/wym_project/flask-llm-pdf-analyzer/test.ipynb#X43sZmlsZQ%3D%3D?line=2'>3</a>\u001b[0m df \u001b[39m=\u001b[39m pd\u001b[39m.\u001b[39mDataFrame(cited_articles)\n\u001b[0;32m      <a href='vscode-notebook-cell:/d%3A/wym_project/flask-llm-pdf-analyzer/test.ipynb#X43sZmlsZQ%3D%3D?line=3'>4</a>\u001b[0m df\u001b[39m.\u001b[39mhead()\n",
            "\u001b[1;32md:\\wym_project\\flask-llm-pdf-analyzer\\test.ipynb Cell 16\u001b[0m in \u001b[0;36m7\n\u001b[0;32m      <a href='vscode-notebook-cell:/d%3A/wym_project/flask-llm-pdf-analyzer/test.ipynb#X43sZmlsZQ%3D%3D?line=4'>5</a>\u001b[0m \u001b[39mif\u001b[39;00m publication_title \u001b[39m==\u001b[39m \u001b[39mNone\u001b[39;00m:\n\u001b[0;32m      <a href='vscode-notebook-cell:/d%3A/wym_project/flask-llm-pdf-analyzer/test.ipynb#X43sZmlsZQ%3D%3D?line=5'>6</a>\u001b[0m     \u001b[39mreturn\u001b[39;00m \u001b[39mNone\u001b[39;00m\n\u001b[1;32m----> <a href='vscode-notebook-cell:/d%3A/wym_project/flask-llm-pdf-analyzer/test.ipynb#X43sZmlsZQ%3D%3D?line=6'>7</a>\u001b[0m search_query \u001b[39m=\u001b[39m scholarly\u001b[39m.\u001b[39;49msearch_pubs(publication_title)\n\u001b[0;32m      <a href='vscode-notebook-cell:/d%3A/wym_project/flask-llm-pdf-analyzer/test.ipynb#X43sZmlsZQ%3D%3D?line=7'>8</a>\u001b[0m data \u001b[39m=\u001b[39m \u001b[39mnext\u001b[39m(search_query)\n\u001b[0;32m      <a href='vscode-notebook-cell:/d%3A/wym_project/flask-llm-pdf-analyzer/test.ipynb#X43sZmlsZQ%3D%3D?line=8'>9</a>\u001b[0m \u001b[39mreturn\u001b[39;00m data\n",
            "File \u001b[1;32md:\\anaconda\\lib\\site-packages\\scholarly\\_scholarly.py:160\u001b[0m, in \u001b[0;36m_Scholarly.search_pubs\u001b[1;34m(self, query, patents, citations, year_low, year_high, sort_by, include_last_year, start_index)\u001b[0m\n\u001b[0;32m     97\u001b[0m \u001b[39m\"\"\"Searches by query and returns a generator of Publication objects\u001b[39;00m\n\u001b[0;32m     98\u001b[0m \n\u001b[0;32m     99\u001b[0m \u001b[39m:param query: terms to be searched\u001b[39;00m\n\u001b[1;32m   (...)\u001b[0m\n\u001b[0;32m    155\u001b[0m \n\u001b[0;32m    156\u001b[0m \u001b[39m\"\"\"\u001b[39;00m\n\u001b[0;32m    157\u001b[0m url \u001b[39m=\u001b[39m \u001b[39mself\u001b[39m\u001b[39m.\u001b[39m_construct_url(_PUBSEARCH\u001b[39m.\u001b[39mformat(requests\u001b[39m.\u001b[39mutils\u001b[39m.\u001b[39mquote(query)), patents\u001b[39m=\u001b[39mpatents,\n\u001b[0;32m    158\u001b[0m                           citations\u001b[39m=\u001b[39mcitations, year_low\u001b[39m=\u001b[39myear_low, year_high\u001b[39m=\u001b[39myear_high,\n\u001b[0;32m    159\u001b[0m                           sort_by\u001b[39m=\u001b[39msort_by, include_last_year\u001b[39m=\u001b[39minclude_last_year, start_index\u001b[39m=\u001b[39mstart_index)\n\u001b[1;32m--> 160\u001b[0m \u001b[39mreturn\u001b[39;00m \u001b[39mself\u001b[39;49m\u001b[39m.\u001b[39;49m__nav\u001b[39m.\u001b[39;49msearch_publications(url)\n",
            "File \u001b[1;32md:\\anaconda\\lib\\site-packages\\scholarly\\_navigator.py:296\u001b[0m, in \u001b[0;36mNavigator.search_publications\u001b[1;34m(self, url)\u001b[0m\n\u001b[0;32m    288\u001b[0m \u001b[39mdef\u001b[39;00m \u001b[39msearch_publications\u001b[39m(\u001b[39mself\u001b[39m, url: \u001b[39mstr\u001b[39m) \u001b[39m-\u001b[39m\u001b[39m>\u001b[39m _SearchScholarIterator:\n\u001b[0;32m    289\u001b[0m     \u001b[39m\"\"\"Returns a Publication Generator given a url\u001b[39;00m\n\u001b[0;32m    290\u001b[0m \n\u001b[0;32m    291\u001b[0m \u001b[39m    :param url: the url where publications can be found.\u001b[39;00m\n\u001b[1;32m   (...)\u001b[0m\n\u001b[0;32m    294\u001b[0m \u001b[39m    :rtype: {_SearchScholarIterator}\u001b[39;00m\n\u001b[0;32m    295\u001b[0m \u001b[39m    \"\"\"\u001b[39;00m\n\u001b[1;32m--> 296\u001b[0m     \u001b[39mreturn\u001b[39;00m _SearchScholarIterator(\u001b[39mself\u001b[39;49m, url)\n",
            "File \u001b[1;32md:\\anaconda\\lib\\site-packages\\scholarly\\publication_parser.py:53\u001b[0m, in \u001b[0;36m_SearchScholarIterator.__init__\u001b[1;34m(self, nav, url)\u001b[0m\n\u001b[0;32m     51\u001b[0m \u001b[39mself\u001b[39m\u001b[39m.\u001b[39m_pubtype \u001b[39m=\u001b[39m PublicationSource\u001b[39m.\u001b[39mPUBLICATION_SEARCH_SNIPPET \u001b[39mif\u001b[39;00m \u001b[39m\"\u001b[39m\u001b[39m/scholar?\u001b[39m\u001b[39m\"\u001b[39m \u001b[39min\u001b[39;00m url \u001b[39melse\u001b[39;00m PublicationSource\u001b[39m.\u001b[39mJOURNAL_CITATION_LIST\n\u001b[0;32m     52\u001b[0m \u001b[39mself\u001b[39m\u001b[39m.\u001b[39m_nav \u001b[39m=\u001b[39m nav\n\u001b[1;32m---> 53\u001b[0m \u001b[39mself\u001b[39;49m\u001b[39m.\u001b[39;49m_load_url(url)\n\u001b[0;32m     54\u001b[0m \u001b[39mself\u001b[39m\u001b[39m.\u001b[39mtotal_results \u001b[39m=\u001b[39m \u001b[39mself\u001b[39m\u001b[39m.\u001b[39m_get_total_results()\n\u001b[0;32m     55\u001b[0m \u001b[39mself\u001b[39m\u001b[39m.\u001b[39mpub_parser \u001b[39m=\u001b[39m PublicationParser(\u001b[39mself\u001b[39m\u001b[39m.\u001b[39m_nav)\n",
            "File \u001b[1;32md:\\anaconda\\lib\\site-packages\\scholarly\\publication_parser.py:59\u001b[0m, in \u001b[0;36m_SearchScholarIterator._load_url\u001b[1;34m(self, url)\u001b[0m\n\u001b[0;32m     57\u001b[0m \u001b[39mdef\u001b[39;00m \u001b[39m_load_url\u001b[39m(\u001b[39mself\u001b[39m, url: \u001b[39mstr\u001b[39m):\n\u001b[0;32m     58\u001b[0m     \u001b[39m# this is temporary until setup json file\u001b[39;00m\n\u001b[1;32m---> 59\u001b[0m     \u001b[39mself\u001b[39m\u001b[39m.\u001b[39m_soup \u001b[39m=\u001b[39m \u001b[39mself\u001b[39;49m\u001b[39m.\u001b[39;49m_nav\u001b[39m.\u001b[39;49m_get_soup(url)\n\u001b[0;32m     60\u001b[0m     \u001b[39mself\u001b[39m\u001b[39m.\u001b[39m_pos \u001b[39m=\u001b[39m \u001b[39m0\u001b[39m\n\u001b[0;32m     61\u001b[0m     \u001b[39mself\u001b[39m\u001b[39m.\u001b[39m_rows \u001b[39m=\u001b[39m \u001b[39mself\u001b[39m\u001b[39m.\u001b[39m_soup\u001b[39m.\u001b[39mfind_all(\u001b[39m'\u001b[39m\u001b[39mdiv\u001b[39m\u001b[39m'\u001b[39m, class_\u001b[39m=\u001b[39m\u001b[39m'\u001b[39m\u001b[39mgs_r gs_or gs_scl\u001b[39m\u001b[39m'\u001b[39m) \u001b[39m+\u001b[39m \u001b[39mself\u001b[39m\u001b[39m.\u001b[39m_soup\u001b[39m.\u001b[39mfind_all(\u001b[39m'\u001b[39m\u001b[39mdiv\u001b[39m\u001b[39m'\u001b[39m, class_\u001b[39m=\u001b[39m\u001b[39m'\u001b[39m\u001b[39mgsc_mpat_ttl\u001b[39m\u001b[39m'\u001b[39m)\n",
            "File \u001b[1;32md:\\anaconda\\lib\\site-packages\\scholarly\\_navigator.py:239\u001b[0m, in \u001b[0;36mNavigator._get_soup\u001b[1;34m(self, url)\u001b[0m\n\u001b[0;32m    237\u001b[0m \u001b[39mdef\u001b[39;00m \u001b[39m_get_soup\u001b[39m(\u001b[39mself\u001b[39m, url: \u001b[39mstr\u001b[39m) \u001b[39m-\u001b[39m\u001b[39m>\u001b[39m BeautifulSoup:\n\u001b[0;32m    238\u001b[0m     \u001b[39m\"\"\"Return the BeautifulSoup for a page on scholar.google.com\"\"\"\u001b[39;00m\n\u001b[1;32m--> 239\u001b[0m     html \u001b[39m=\u001b[39m \u001b[39mself\u001b[39;49m\u001b[39m.\u001b[39;49m_get_page(\u001b[39m'\u001b[39;49m\u001b[39mhttps://scholar.google.com\u001b[39;49m\u001b[39m{0}\u001b[39;49;00m\u001b[39m'\u001b[39;49m\u001b[39m.\u001b[39;49mformat(url))\n\u001b[0;32m    240\u001b[0m     html \u001b[39m=\u001b[39m html\u001b[39m.\u001b[39mreplace(\u001b[39mu\u001b[39m\u001b[39m'\u001b[39m\u001b[39m\\xa0\u001b[39;00m\u001b[39m'\u001b[39m, \u001b[39mu\u001b[39m\u001b[39m'\u001b[39m\u001b[39m \u001b[39m\u001b[39m'\u001b[39m)\n\u001b[0;32m    241\u001b[0m     res \u001b[39m=\u001b[39m BeautifulSoup(html, \u001b[39m'\u001b[39m\u001b[39mhtml.parser\u001b[39m\u001b[39m'\u001b[39m)\n",
            "File \u001b[1;32md:\\anaconda\\lib\\site-packages\\scholarly\\_navigator.py:190\u001b[0m, in \u001b[0;36mNavigator._get_page\u001b[1;34m(self, pagerequest, premium)\u001b[0m\n\u001b[0;32m    188\u001b[0m     \u001b[39mreturn\u001b[39;00m \u001b[39mself\u001b[39m\u001b[39m.\u001b[39m_get_page(pagerequest, \u001b[39mTrue\u001b[39;00m)\n\u001b[0;32m    189\u001b[0m \u001b[39melse\u001b[39;00m:\n\u001b[1;32m--> 190\u001b[0m     \u001b[39mraise\u001b[39;00m MaxTriesExceededException(\u001b[39m\"\u001b[39m\u001b[39mCannot Fetch from Google Scholar.\u001b[39m\u001b[39m\"\u001b[39m)\n",
            "\u001b[1;31mMaxTriesExceededException\u001b[0m: Cannot Fetch from Google Scholar."
          ]
        }
      ],
      "source": [
        "publication_title = text.value\n",
        "cited_articles = get_cited_articles(publication_title)\n",
        "df = pd.DataFrame(cited_articles)\n",
        "df.head()"
      ]
    },
    {
      "cell_type": "code",
      "execution_count": null,
      "metadata": {
        "id": "bAojzH85Jovu"
      },
      "outputs": [],
      "source": [
        "from selenium import webdriver\n",
        "from selenium.webdriver.chrome.service import Service\n",
        "from selenium.webdriver.common.by import By\n",
        "from selenium.webdriver.chrome.options import Options\n",
        "from selenium.webdriver.common.action_chains import ActionChains\n",
        "from selenium.webdriver.common.keys import Keys\n",
        "from selenium.webdriver.support.ui import WebDriverWait\n",
        "from selenium.webdriver.support import expected_conditions as EC\n",
        "import json\n",
        "import ipywidgets as widgets\n",
        "from time import sleep\n",
        "\n",
        "NUM_PAPERS = 20\n",
        "\n",
        "# Path to the ChromeDriver executable that matches the installed Chrome browser version\n",
        "chromedriver_path = \"D:\\Hackust\\chromedriver.exe\"\n",
        "\n",
        "# Configure Chrome options\n",
        "chrome_options = Options()\n",
        "# chrome_options.add_argument(\"--headless\")  # Run Chrome in headless mode\n",
        "\n",
        "# Set up the ChromeDriver service\n",
        "service = Service(chromedriver_path)\n",
        "\n",
        "# Launch the Chrome browser\n",
        "driver = webdriver.Chrome(service=service, options=chrome_options)\n",
        "url = \"https://scholar.google.com\" + cited_articles[\"citedby_url\"]\n",
        "\n",
        "driver.get(url)\n",
        "# Wait for the page to load and find the list of papers\n",
        "wait = WebDriverWait(driver, 10)\n",
        "sleep(10)\n",
        "driver.quit()"
      ]
    },
    {
      "attachments": {},
      "cell_type": "markdown",
      "metadata": {},
      "source": [
        "## constructing interactive demo using ipywidgets"
      ]
    },
    {
      "cell_type": "code",
      "execution_count": 6,
      "metadata": {
        "colab": {
          "referenced_widgets": [
            "e8dd06bc4d894ae8bb636ff9cb48a46b"
          ]
        },
        "id": "Hu2EU9uAJovv",
        "outputId": "ee6bf656-4b25-4bbd-cb04-3f9719daea44"
      },
      "outputs": [
        {
          "data": {
            "application/vnd.jupyter.widget-view+json": {
              "model_id": "8d0e6f55ecbb4b83b6cb4397a19231a9",
              "version_major": 2,
              "version_minor": 0
            },
            "text/plain": [
              "Text(value='', description='Input title')"
            ]
          },
          "metadata": {},
          "output_type": "display_data"
        }
      ],
      "source": [
        "import ipywidgets as widgets\n",
        "# Create a text widget\n",
        "text = widgets.Text(description=\"Input title\")\n",
        "# Display widget\n",
        "text"
      ]
    },
    {
      "cell_type": "code",
      "execution_count": null,
      "metadata": {
        "id": "_6YCcpJ2Jovw",
        "outputId": "26a28785-8a20-43b8-d7a7-d3ba46acf41f"
      },
      "outputs": [
        {
          "name": "stdout",
          "output_type": "stream",
          "text": [
            "1 have not found bib\n",
            "\n"
          ]
        }
      ],
      "source": [
        "from selenium import webdriver\n",
        "from urllib import parse\n",
        "from time import sleep\n",
        "\n",
        "class GetBibs():\n",
        "  def __init__(self, driver_path, option_path, ie_search_url, gg_search_url) -> None:\n",
        "    self.ie_search_url = ie_search_url\n",
        "    self.gg_search_url = gg_search_url\n",
        "\n",
        "    option = webdriver.ChromeOptions()\n",
        "    # option.add_argument(\"--user-data-dir=\"+option_path)\n",
        "    # option.add_argument(\"--headless\")\n",
        "    self.browser = webdriver.Chrome(options = option)   # open chrome\n",
        "    self.browser.set_window_size(800,800)\n",
        "\n",
        "  def get_bib_from_google_scholar(self, paper_title):\n",
        "    strto_pn=parse.quote(paper_title)\n",
        "    url = self.gg_search_url + strto_pn\n",
        "    self.browser.get(url)\n",
        "    # wait for the result to load\n",
        "    bib = \"have not found bib\"\n",
        "    for i in range(100):\n",
        "      try:\n",
        "        element=self.browser.find_element(By.CSS_SELECTOR,\"[class='gs_r gs_or gs_scl']\")\n",
        "        element=element.find_element(By.CSS_SELECTOR, \"[class=gs_fl gs_flb']\")\n",
        "        element=element.find_element(By.CSS_SELECTOR, \"[class='gs_or_cit gs_nph']\")\n",
        "        element.click()\n",
        "        break\n",
        "      except:\n",
        "        sleep(0.1)\n",
        "    for i in range(100):\n",
        "      try:\n",
        "        element=self.browser.find_element(By.ID, \"gs_citi\")\n",
        "        element=element.find_element(By.CSS_SELECTOR, \"[class='gs_citi']\")\n",
        "        element.click()\n",
        "        break\n",
        "      except:\n",
        "        sleep(0.1)\n",
        "    for i in range(100):\n",
        "      try:\n",
        "        bib = self.browser.find_element(By.TAG_NAME, 'pre').text\n",
        "        break\n",
        "      except:\n",
        "        sleep(0.1)\n",
        "    return bib\n",
        "\n",
        "  def get_bib(self, paper_title):\n",
        "    return self.get_bib_from_google_scholar(paper_title)\n",
        "\n",
        "driver_path = r'D:/Hackust/chromedriver.exe' # 浏览器驱动位置\n",
        "option_path = r\"C:/Users/Administrator/AppData/Local/Google/Chrome/User Data/\" # 使浏览器能用你自定义的设置，否则Selenium创建的浏览器对象是默认设置，一些插件就不能用了\n",
        "ie_search_url = r'https://ieeexplore.ieee.org/search/searchresult.jsp?newsearch=true&queryText=' # 在执行代码之前，先打开IEEE官网的搜索页面，把类似的网址复制到这里，等号=后面就是一会儿要搜索的内容\n",
        "gg_search_url = r'https://scholar.google.com/scholar?hl=zh-CN&as_sdt=0%2C5&inst=1597255436240989024&q=' # 谷歌学术也是一样\n",
        "get_bibs = GetBibs(driver_path, option_path, ie_search_url, gg_search_url)\n",
        "\n",
        "paper_titles = { # 要爬取的论文，key用于标记，value是论文题目。下面是一些样例\n",
        "  \"1\": \"Inner blast response of fiber reinforced aluminum tubes\",\n",
        "}\n",
        "\n",
        "for k in paper_titles.keys():\n",
        "  bib = get_bibs.get_bib(paper_titles[k])\n",
        "  print(k, bib)\n",
        "  print()\n"
      ]
    },
    {
      "attachments": {},
      "cell_type": "markdown",
      "metadata": {},
      "source": [
        "## attempted selenium_stealth, but there is still google captcha that cannot be bypassed"
      ]
    },
    {
      "cell_type": "code",
      "execution_count": 5,
      "metadata": {},
      "outputs": [],
      "source": [
        "from selenium import webdriver\n",
        "from selenium.webdriver.chrome.service import Service as ChromeService\n",
        "\n",
        "from selenium_stealth import stealth\n",
        "import random\n",
        "\n",
        "path = \"D:\\\\wym_project\\\\flask-llm-pdf-analyzer\\\\chromedriver.exe\"\n",
        "# create a new Service instance and specify path to Chromedriver executable\n",
        "service = ChromeService(executable_path=path)\n",
        "\n",
        "# Step 2: Change browser properties\n",
        "# create a ChromeOptions object\n",
        "options = webdriver.ChromeOptions()\n",
        "\n",
        "#run in headless mode\n",
        "options.add_argument(\"--headless\")\n",
        "\n",
        "# disable the AutomationControlled feature of Blink rendering engine\n",
        "options.add_argument('--disable-blink-features=AutomationControlled')\n",
        " \n",
        "# disable pop-up blocking\n",
        "options.add_argument('--disable-popup-blocking')\n",
        " \n",
        "# start the browser window in maximized mode\n",
        "options.add_argument('--start-maximized')\n",
        " \n",
        "# disable extensions\n",
        "options.add_argument('--disable-extensions')\n",
        " \n",
        "# disable sandbox mode\n",
        "options.add_argument('--no-sandbox')\n",
        " \n",
        "# disable shared memory usage\n",
        "options.add_argument('--disable-dev-shm-usage')\n",
        "\n",
        "\n",
        "# Set navigator.webdriver to undefined\n",
        "# create a driver instance\n",
        "driver = webdriver.Chrome(service=service, options=options)\n",
        "\n",
        "# Change the property value of the navigator for webdriver to undefined\n",
        "driver.execute_script(\"Object.defineProperty(navigator, 'webdriver', {get: () => undefined})\")\n",
        "\n",
        "\n",
        "\n",
        "# Step 3: Rotate user agents \n",
        "user_agents = [\n",
        "    # Add your list of user agents here\n",
        "    'Mozilla/5.0 (Windows NT 10.0; Win64; x64) AppleWebKit/537.36 (KHTML, like Gecko) Chrome/109.0.0.0 Safari/537.36',\n",
        "    'Mozilla/5.0 (Macintosh; Intel Mac OS X 10_15_7) AppleWebKit/537.36 (KHTML, like Gecko) Chrome/109.0.0.0 Safari/537.36',\n",
        "    'Mozilla/5.0 (Windows NT 10.0; Win64; x64) AppleWebKit/537.36 (KHTML, like Gecko) Chrome/108.0.0.0 Safari/537.36',\n",
        "    'Mozilla/5.0 (Macintosh; Intel Mac OS X 10_15_7) AppleWebKit/537.36 (KHTML, like Gecko) Chrome/108.0.0.0 Safari/537.36',\n",
        "    'Mozilla/5.0 (X11; Linux x86_64) AppleWebKit/537.36 (KHTML, like Gecko) Chrome/108.0.0.0 Safari/537.36',\n",
        "    'Mozilla/5.0 (Macintosh; Intel Mac OS X 10_15_7) AppleWebKit/605.1.15 (KHTML, like Gecko) Version/16.1 Safari/605.1.15',\n",
        "    'Mozilla/5.0 (Macintosh; Intel Mac OS X 13_1) AppleWebKit/605.1.15 (KHTML, like Gecko) Version/16.1 Safari/605.1.15',\n",
        "]\n",
        "\n",
        "# select random user agent\n",
        "user_agent = random.choice(user_agents)\n",
        "\n",
        "# pass in selected user agent as an argument\n",
        "options.add_argument(f'user-agent={user_agent}')\n",
        "\n",
        "\n",
        "# Step 4: Scrape using Stealth\n",
        "#enable stealth mode\n",
        "stealth(driver,\n",
        "        languages=[\"en-US\", \"en\"],\n",
        "        vendor=\"Google Inc.\",\n",
        "        platform=\"Win32\",\n",
        "        webgl_vendor=\"Intel Inc.\",\n",
        "        renderer=\"Intel Iris OpenGL Engine\",\n",
        "        fix_hairline=True,\n",
        "        )\n",
        "\n",
        "# navigate to opensea\n",
        "driver.get(\"https://scholar.google.com/scholar?cites=5237000301060453724&as_sdt=2005&sciodt=0,5&hl=en\")\n",
        " \n",
        "# Wait for page to load\n",
        "\n",
        "# Take screenshot\n",
        "driver.save_screenshot(\"opensea.png\")\n",
        " \n",
        "# Close browser\n",
        "driver.quit()\n"
      ]
    }
  ],
  "metadata": {
    "colab": {
      "provenance": []
    },
    "kernelspec": {
      "display_name": "Python 3",
      "language": "python",
      "name": "python3"
    },
    "language_info": {
      "codemirror_mode": {
        "name": "ipython",
        "version": 3
      },
      "file_extension": ".py",
      "mimetype": "text/x-python",
      "name": "python",
      "nbconvert_exporter": "python",
      "pygments_lexer": "ipython3",
      "version": "3.8.8"
    },
    "orig_nbformat": 4
  },
  "nbformat": 4,
  "nbformat_minor": 0
}
