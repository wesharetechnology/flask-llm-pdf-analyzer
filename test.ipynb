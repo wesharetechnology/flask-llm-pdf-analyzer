{
  "cells": [
    {
      "cell_type": "markdown",
      "metadata": {
        "id": "gDICaRjvJovb"
      },
      "source": [
        "## scrawl the information of the 20 most recent papers"
      ]
    },
    {
      "cell_type": "code",
      "execution_count": null,
      "metadata": {
        "id": "q3CsBKpMJovj"
      },
      "outputs": [],
      "source": [
        "from selenium import webdriver\n",
        "from selenium.webdriver.chrome.service import Service\n",
        "from selenium.webdriver.common.by import By\n",
        "from selenium.webdriver.chrome.options import Options\n",
        "from selenium.webdriver.common.action_chains import ActionChains\n",
        "from selenium.webdriver.common.keys import Keys\n",
        "from selenium.webdriver.support.ui import WebDriverWait\n",
        "from selenium.webdriver.support import expected_conditions as EC\n",
        "import json\n",
        "import ipywidgets as widgets\n",
        "\n",
        "NUM_PAPERS = 20\n",
        "\n",
        "# Path to the ChromeDriver executable that matches the installed Chrome browser version\n",
        "chromedriver_path = \"D:\\Hackust\\chromedriver.exe\"\n",
        "\n",
        "# Configure Chrome options\n",
        "chrome_options = Options()\n",
        "chrome_options.add_argument(\"--headless\")  # Run Chrome in headless mode\n",
        "\n",
        "# Set up the ChromeDriver service\n",
        "service = Service(chromedriver_path)\n",
        "\n",
        "# Launch the Chrome browser\n",
        "driver = webdriver.Chrome(service=service, options=chrome_options)\n",
        "\n",
        "# Define the URL for Prof. Yang Jinglei's Google Scholar profile\n",
        "url = \"https://scholar.google.com/citations?view_op=list_works&hl=en&hl=en&user=7wCHYtgAAAAJ&sortby=pubdate\"\n",
        "# get the url from ipywidget text box\n",
        "\n",
        "\n",
        "# Load the Google Scholar profile page\n",
        "driver.get(url)\n",
        "\n",
        "# Wait for the page to load and find the list of papers\n",
        "wait = WebDriverWait(driver, 10)\n",
        "papers = wait.until(EC.presence_of_all_elements_located((By.CSS_SELECTOR, \".gsc_a_tr\")))\n",
        "\n",
        "# create a json object to store the data\n",
        "dataset = []\n",
        "\n",
        "for i in range(NUM_PAPERS):\n",
        "    title_element = driver.find_element(\"xpath\", '//*[@id=\"gsc_a_b\"]/tr[' + str(i+1) + ']/td[1]/a')\n",
        "    title = title_element.text\n",
        "    # jump to the new page\n",
        "    title_element.click()\n",
        "    wait.until(EC.staleness_of(title_element))\n",
        "    # extract the coauthors and journal\n",
        "    coauthors = driver.find_element(\"xpath\", '//*[@id=\"gsc_oci_table\"]/div[1]/div[2]').text\n",
        "    # list of authors\n",
        "    coauthor_list = coauthors.split(', ')\n",
        "    journal = driver.find_element(\"xpath\", '//*[@id=\"gsc_oci_table\"]/div[3]/div[2]').text\n",
        "    # output author, papers, journal in json format\n",
        "    for author in coauthor_list:\n",
        "        dataset.append({\n",
        "            'author': author,\n",
        "            'paper_title': title,\n",
        "            'journal': journal\n",
        "        })\n",
        "    # jump back to the previous page\n",
        "    driver.back()\n",
        "# pretty print the json object\n",
        "print(json.dumps(dataset, indent = 4))\n",
        "\n",
        "# Quit the browser\n",
        "driver.quit()"
      ]
    },
    {
      "cell_type": "markdown",
      "metadata": {
        "id": "GKGKZz41Jovm"
      },
      "source": [
        "## construct neo4j graph demo"
      ]
    },
    {
      "cell_type": "code",
      "execution_count": null,
      "metadata": {
        "id": "CaGWoe0wJovp"
      },
      "outputs": [],
      "source": [
        "from dotenv import load_dotenv\n",
        "import os\n",
        "\n",
        "# Load environment variables from .env file\n",
        "load_dotenv()\n",
        "\n",
        "# Access the environment variables\n",
        "db_password = os.getenv(\"DB_PASSWORD\")\n"
      ]
    },
    {
      "cell_type": "code",
      "execution_count": null,
      "metadata": {
        "id": "pXWjBFweJovp",
        "outputId": "7adf4163-7c69-44cf-edec-6f32b066d106"
      },
      "outputs": [
        {
          "name": "stdout",
          "output_type": "stream",
          "text": [
            "[{'author': 'Miracle Hope Adegun', 'paper_title': 'Anisotropic thermally superinsulating boron nitride composite aerogel for building thermal management', 'journal': 'Composites Part A: Applied Science and Manufacturing'}, {'author': 'Kit-Ying Chan', 'paper_title': 'Anisotropic thermally superinsulating boron nitride composite aerogel for building thermal management', 'journal': 'Composites Part A: Applied Science and Manufacturing'}, {'author': 'Jie Yang', 'paper_title': 'Anisotropic thermally superinsulating boron nitride composite aerogel for building thermal management', 'journal': 'Composites Part A: Applied Science and Manufacturing'}, {'author': 'Harun Venkatesan', 'paper_title': 'Anisotropic thermally superinsulating boron nitride composite aerogel for building thermal management', 'journal': 'Composites Part A: Applied Science and Manufacturing'}, {'author': 'Eunyoung Kim', 'paper_title': 'Anisotropic thermally superinsulating boron nitride composite aerogel for building thermal management', 'journal': 'Composites Part A: Applied Science and Manufacturing'}, {'author': 'Heng Zhang', 'paper_title': 'Anisotropic thermally superinsulating boron nitride composite aerogel for building thermal management', 'journal': 'Composites Part A: Applied Science and Manufacturing'}, {'author': 'Xi Shen', 'paper_title': 'Anisotropic thermally superinsulating boron nitride composite aerogel for building thermal management', 'journal': 'Composites Part A: Applied Science and Manufacturing'}, {'author': 'Jinglei Yang', 'paper_title': 'Anisotropic thermally superinsulating boron nitride composite aerogel for building thermal management', 'journal': 'Composites Part A: Applied Science and Manufacturing'}, {'author': 'Jang-Kyo Kim', 'paper_title': 'Anisotropic thermally superinsulating boron nitride composite aerogel for building thermal management', 'journal': 'Composites Part A: Applied Science and Manufacturing'}, {'author': 'Xueqin Yang', 'paper_title': 'Development of Sulfonamide‐Functionalized Charge‐Reversal AIE Photosensitizers for Precise Photodynamic Therapy in the Acidic Tumor Microenvironment', 'journal': 'Advanced Functional Materials'}, {'author': 'Changhuo Xu', 'paper_title': 'Development of Sulfonamide‐Functionalized Charge‐Reversal AIE Photosensitizers for Precise Photodynamic Therapy in the Acidic Tumor Microenvironment', 'journal': 'Advanced Functional Materials'}, {'author': 'Xun Zhang', 'paper_title': 'Development of Sulfonamide‐Functionalized Charge‐Reversal AIE Photosensitizers for Precise Photodynamic Therapy in the Acidic Tumor Microenvironment', 'journal': 'Advanced Functional Materials'}, {'author': 'Pei Li', 'paper_title': 'Development of Sulfonamide‐Functionalized Charge‐Reversal AIE Photosensitizers for Precise Photodynamic Therapy in the Acidic Tumor Microenvironment', 'journal': 'Advanced Functional Materials'}, {'author': 'Feiyi Sun', 'paper_title': 'Development of Sulfonamide‐Functionalized Charge‐Reversal AIE Photosensitizers for Precise Photodynamic Therapy in the Acidic Tumor Microenvironment', 'journal': 'Advanced Functional Materials'}, {'author': 'Xinyue Liu', 'paper_title': 'Development of Sulfonamide‐Functionalized Charge‐Reversal AIE Photosensitizers for Precise Photodynamic Therapy in the Acidic Tumor Microenvironment', 'journal': 'Advanced Functional Materials'}, {'author': 'Xinyuan Wang', 'paper_title': 'Development of Sulfonamide‐Functionalized Charge‐Reversal AIE Photosensitizers for Precise Photodynamic Therapy in the Acidic Tumor Microenvironment', 'journal': 'Advanced Functional Materials'}, {'author': 'Ryan TK Kwok', 'paper_title': 'Development of Sulfonamide‐Functionalized Charge‐Reversal AIE Photosensitizers for Precise Photodynamic Therapy in the Acidic Tumor Microenvironment', 'journal': 'Advanced Functional Materials'}, {'author': 'Jinglei Yang', 'paper_title': 'Development of Sulfonamide‐Functionalized Charge‐Reversal AIE Photosensitizers for Precise Photodynamic Therapy in the Acidic Tumor Microenvironment', 'journal': 'Advanced Functional Materials'}, {'author': 'Jacky WY Lam', 'paper_title': 'Development of Sulfonamide‐Functionalized Charge‐Reversal AIE Photosensitizers for Precise Photodynamic Therapy in the Acidic Tumor Microenvironment', 'journal': 'Advanced Functional Materials'}, {'author': 'Yongye Liang', 'paper_title': 'Development of Sulfonamide‐Functionalized Charge‐Reversal AIE Photosensitizers for Precise Photodynamic Therapy in the Acidic Tumor Microenvironment', 'journal': 'Advanced Functional Materials'}, {'author': 'Ben Zhong Tang', 'paper_title': 'Development of Sulfonamide‐Functionalized Charge‐Reversal AIE Photosensitizers for Precise Photodynamic Therapy in the Acidic Tumor Microenvironment', 'journal': 'Advanced Functional Materials'}, {'author': 'Heng Zhang', 'paper_title': 'Mechanochromic optical/electrical skin for ultrasensitive dual-signal sensing', 'journal': 'ACS nano'}, {'author': 'Haomin Chen', 'paper_title': 'Mechanochromic optical/electrical skin for ultrasensitive dual-signal sensing', 'journal': 'ACS nano'}, {'author': 'Jeng-Hun Lee', 'paper_title': 'Mechanochromic optical/electrical skin for ultrasensitive dual-signal sensing', 'journal': 'ACS nano'}, {'author': 'Eunyoung Kim', 'paper_title': 'Mechanochromic optical/electrical skin for ultrasensitive dual-signal sensing', 'journal': 'ACS nano'}, {'author': 'Kit-Ying Chan', 'paper_title': 'Mechanochromic optical/electrical skin for ultrasensitive dual-signal sensing', 'journal': 'ACS nano'}, {'author': 'Harun Venkatesan', 'paper_title': 'Mechanochromic optical/electrical skin for ultrasensitive dual-signal sensing', 'journal': 'ACS nano'}, {'author': 'Xi Shen', 'paper_title': 'Mechanochromic optical/electrical skin for ultrasensitive dual-signal sensing', 'journal': 'ACS nano'}, {'author': 'Jinglei Yang', 'paper_title': 'Mechanochromic optical/electrical skin for ultrasensitive dual-signal sensing', 'journal': 'ACS nano'}, {'author': 'Jang-Kyo Kim', 'paper_title': 'Mechanochromic optical/electrical skin for ultrasensitive dual-signal sensing', 'journal': 'ACS nano'}, {'author': 'Xin Li', 'paper_title': 'Inner blast response of fiber reinforced aluminum tubes', 'journal': 'International Journal of Impact Engineering'}, {'author': 'Rui Xu', 'paper_title': 'Inner blast response of fiber reinforced aluminum tubes', 'journal': 'International Journal of Impact Engineering'}, {'author': 'Xin Zhang', 'paper_title': 'Inner blast response of fiber reinforced aluminum tubes', 'journal': 'International Journal of Impact Engineering'}, {'author': 'He Zhang', 'paper_title': 'Inner blast response of fiber reinforced aluminum tubes', 'journal': 'International Journal of Impact Engineering'}, {'author': 'Jinglei Yang', 'paper_title': 'Inner blast response of fiber reinforced aluminum tubes', 'journal': 'International Journal of Impact Engineering'}, {'author': 'Shusheng Chen', 'paper_title': 'Direct microencapsulation of Ionic-Liquid-Based shear thickening fluid via rheological behavior transition for functional applications', 'journal': 'Chemical Engineering Journal'}, {'author': 'Ying Zhao', 'paper_title': 'Direct microencapsulation of Ionic-Liquid-Based shear thickening fluid via rheological behavior transition for functional applications', 'journal': 'Chemical Engineering Journal'}, {'author': 'Heng Zhang', 'paper_title': 'Direct microencapsulation of Ionic-Liquid-Based shear thickening fluid via rheological behavior transition for functional applications', 'journal': 'Chemical Engineering Journal'}, {'author': 'Peidong Xu', 'paper_title': 'Direct microencapsulation of Ionic-Liquid-Based shear thickening fluid via rheological behavior transition for functional applications', 'journal': 'Chemical Engineering Journal'}, {'author': 'Zhenyu Jiang', 'paper_title': 'Direct microencapsulation of Ionic-Liquid-Based shear thickening fluid via rheological behavior transition for functional applications', 'journal': 'Chemical Engineering Journal'}, {'author': 'He Zhang', 'paper_title': 'Direct microencapsulation of Ionic-Liquid-Based shear thickening fluid via rheological behavior transition for functional applications', 'journal': 'Chemical Engineering Journal'}, {'author': 'Jinglei Yang', 'paper_title': 'Direct microencapsulation of Ionic-Liquid-Based shear thickening fluid via rheological behavior transition for functional applications', 'journal': 'Chemical Engineering Journal'}, {'author': 'Cheng Qiu', 'paper_title': 'A deep learning-based composite design strategy for efficient selection of material and layup sequences from a given database', 'journal': 'Composites Science and Technology'}, {'author': 'Yuzi Han', 'paper_title': 'A deep learning-based composite design strategy for efficient selection of material and layup sequences from a given database', 'journal': 'Composites Science and Technology'}, {'author': 'Logesh Shanmugam', 'paper_title': 'A deep learning-based composite design strategy for efficient selection of material and layup sequences from a given database', 'journal': 'Composites Science and Technology'}, {'author': 'Ying Zhao', 'paper_title': 'A deep learning-based composite design strategy for efficient selection of material and layup sequences from a given database', 'journal': 'Composites Science and Technology'}, {'author': 'Shaotong Dong', 'paper_title': 'A deep learning-based composite design strategy for efficient selection of material and layup sequences from a given database', 'journal': 'Composites Science and Technology'}, {'author': 'Shanyi Du', 'paper_title': 'A deep learning-based composite design strategy for efficient selection of material and layup sequences from a given database', 'journal': 'Composites Science and Technology'}, {'author': 'Jinglei Yang', 'paper_title': 'A deep learning-based composite design strategy for efficient selection of material and layup sequences from a given database', 'journal': 'Composites Science and Technology'}, {'author': 'Wei Ma', 'paper_title': 'Scalable-Manufactured Anticorrosion and Wear-Resistant Superhydrophobic Surfaces', 'journal': 'ACS Applied Engineering Materials'}, {'author': 'Zhen Yang', 'paper_title': 'Scalable-Manufactured Anticorrosion and Wear-Resistant Superhydrophobic Surfaces', 'journal': 'ACS Applied Engineering Materials'}, {'author': 'Muhammad Bilal Asif', 'paper_title': 'Scalable-Manufactured Anticorrosion and Wear-Resistant Superhydrophobic Surfaces', 'journal': 'ACS Applied Engineering Materials'}, {'author': 'Yinglun Zhang', 'paper_title': 'Scalable-Manufactured Anticorrosion and Wear-Resistant Superhydrophobic Surfaces', 'journal': 'ACS Applied Engineering Materials'}, {'author': 'Weihong Li', 'paper_title': 'Scalable-Manufactured Anticorrosion and Wear-Resistant Superhydrophobic Surfaces', 'journal': 'ACS Applied Engineering Materials'}, {'author': 'Jinglei Yang', 'paper_title': 'Scalable-Manufactured Anticorrosion and Wear-Resistant Superhydrophobic Surfaces', 'journal': 'ACS Applied Engineering Materials'}, {'author': 'Shuhuai Yao', 'paper_title': 'Scalable-Manufactured Anticorrosion and Wear-Resistant Superhydrophobic Surfaces', 'journal': 'ACS Applied Engineering Materials'}, {'author': 'Heng Zhang', 'paper_title': 'Bioinspired Chromotropic Ionic Skin with In‐Plane Strain/Temperature/Pressure Multimodal Sensing and Ultrahigh Stimuli Discriminability', 'journal': 'Advanced Functional Materials'}, {'author': 'Haomin Chen', 'paper_title': 'Bioinspired Chromotropic Ionic Skin with In‐Plane Strain/Temperature/Pressure Multimodal Sensing and Ultrahigh Stimuli Discriminability', 'journal': 'Advanced Functional Materials'}, {'author': 'Jeng‐Hun Lee', 'paper_title': 'Bioinspired Chromotropic Ionic Skin with In‐Plane Strain/Temperature/Pressure Multimodal Sensing and Ultrahigh Stimuli Discriminability', 'journal': 'Advanced Functional Materials'}, {'author': 'Eunyoung Kim', 'paper_title': 'Bioinspired Chromotropic Ionic Skin with In‐Plane Strain/Temperature/Pressure Multimodal Sensing and Ultrahigh Stimuli Discriminability', 'journal': 'Advanced Functional Materials'}, {'author': 'Kit‐Ying Chan', 'paper_title': 'Bioinspired Chromotropic Ionic Skin with In‐Plane Strain/Temperature/Pressure Multimodal Sensing and Ultrahigh Stimuli Discriminability', 'journal': 'Advanced Functional Materials'}, {'author': 'Harun Venkatesan', 'paper_title': 'Bioinspired Chromotropic Ionic Skin with In‐Plane Strain/Temperature/Pressure Multimodal Sensing and Ultrahigh Stimuli Discriminability', 'journal': 'Advanced Functional Materials'}, {'author': 'Miracle Hope Adegun', 'paper_title': 'Bioinspired Chromotropic Ionic Skin with In‐Plane Strain/Temperature/Pressure Multimodal Sensing and Ultrahigh Stimuli Discriminability', 'journal': 'Advanced Functional Materials'}, {'author': 'Okikiola Ganiu Agbabiaka', 'paper_title': 'Bioinspired Chromotropic Ionic Skin with In‐Plane Strain/Temperature/Pressure Multimodal Sensing and Ultrahigh Stimuli Discriminability', 'journal': 'Advanced Functional Materials'}, {'author': 'Xi Shen', 'paper_title': 'Bioinspired Chromotropic Ionic Skin with In‐Plane Strain/Temperature/Pressure Multimodal Sensing and Ultrahigh Stimuli Discriminability', 'journal': 'Advanced Functional Materials'}, {'author': 'Qingbin Zheng', 'paper_title': 'Bioinspired Chromotropic Ionic Skin with In‐Plane Strain/Temperature/Pressure Multimodal Sensing and Ultrahigh Stimuli Discriminability', 'journal': 'Advanced Functional Materials'}, {'author': 'Jinglei Yang', 'paper_title': 'Bioinspired Chromotropic Ionic Skin with In‐Plane Strain/Temperature/Pressure Multimodal Sensing and Ultrahigh Stimuli Discriminability', 'journal': 'Advanced Functional Materials'}, {'author': 'Jang‐Kyo Kim', 'paper_title': 'Bioinspired Chromotropic Ionic Skin with In‐Plane Strain/Temperature/Pressure Multimodal Sensing and Ultrahigh Stimuli Discriminability', 'journal': 'Advanced Functional Materials'}, {'author': 'Nan Xu', 'paper_title': 'RFID with Multi-Sensing&Blockchain Empowered Digitalization of Chemical Inventory Management', 'journal': '2022 3rd International Conference on Next Generation Computing Applications (NextComp)'}, {'author': 'Mutian Li', 'paper_title': 'RFID with Multi-Sensing&Blockchain Empowered Digitalization of Chemical Inventory Management', 'journal': '2022 3rd International Conference on Next Generation Computing Applications (NextComp)'}, {'author': 'Wenyan Kong', 'paper_title': 'RFID with Multi-Sensing&Blockchain Empowered Digitalization of Chemical Inventory Management', 'journal': '2022 3rd International Conference on Next Generation Computing Applications (NextComp)'}, {'author': 'Yang Li', 'paper_title': 'RFID with Multi-Sensing&Blockchain Empowered Digitalization of Chemical Inventory Management', 'journal': '2022 3rd International Conference on Next Generation Computing Applications (NextComp)'}, {'author': 'Yang Wang', 'paper_title': 'RFID with Multi-Sensing&Blockchain Empowered Digitalization of Chemical Inventory Management', 'journal': '2022 3rd International Conference on Next Generation Computing Applications (NextComp)'}, {'author': 'Hongyu Yu', 'paper_title': 'RFID with Multi-Sensing&Blockchain Empowered Digitalization of Chemical Inventory Management', 'journal': '2022 3rd International Conference on Next Generation Computing Applications (NextComp)'}, {'author': 'Jinglei Yang', 'paper_title': 'RFID with Multi-Sensing&Blockchain Empowered Digitalization of Chemical Inventory Management', 'journal': '2022 3rd International Conference on Next Generation Computing Applications (NextComp)'}, {'author': 'Jinxing Sun', 'paper_title': '3D printing of ceramic composite with biomimetic toughening design', 'journal': 'Additive Manufacturing'}, {'author': 'Shixiang Yu', 'paper_title': '3D printing of ceramic composite with biomimetic toughening design', 'journal': 'Additive Manufacturing'}, {'author': 'James Wade-Zhu', 'paper_title': '3D printing of ceramic composite with biomimetic toughening design', 'journal': 'Additive Manufacturing'}, {'author': 'Yue Wang', 'paper_title': '3D printing of ceramic composite with biomimetic toughening design', 'journal': 'Additive Manufacturing'}, {'author': 'Hongqiao Qu', 'paper_title': '3D printing of ceramic composite with biomimetic toughening design', 'journal': 'Additive Manufacturing'}, {'author': 'Shuai Zhao', 'paper_title': '3D printing of ceramic composite with biomimetic toughening design', 'journal': 'Additive Manufacturing'}, {'author': 'Rui Zhang', 'paper_title': '3D printing of ceramic composite with biomimetic toughening design', 'journal': 'Additive Manufacturing'}, {'author': 'Jinglei Yang', 'paper_title': '3D printing of ceramic composite with biomimetic toughening design', 'journal': 'Additive Manufacturing'}, {'author': 'Jon Binner', 'paper_title': '3D printing of ceramic composite with biomimetic toughening design', 'journal': 'Additive Manufacturing'}, {'author': 'Jiaming Bai', 'paper_title': '3D printing of ceramic composite with biomimetic toughening design', 'journal': 'Additive Manufacturing'}, {'author': 'Kit-Ying Chan', 'paper_title': 'Scalable anisotropic cooling aerogels by additive freeze-casting', 'journal': 'Nature Communications'}, {'author': 'Xi Shen', 'paper_title': 'Scalable anisotropic cooling aerogels by additive freeze-casting', 'journal': 'Nature Communications'}, {'author': 'Jie Yang', 'paper_title': 'Scalable anisotropic cooling aerogels by additive freeze-casting', 'journal': 'Nature Communications'}, {'author': 'Keng-Te Lin', 'paper_title': 'Scalable anisotropic cooling aerogels by additive freeze-casting', 'journal': 'Nature Communications'}, {'author': 'Harun Venkatesan', 'paper_title': 'Scalable anisotropic cooling aerogels by additive freeze-casting', 'journal': 'Nature Communications'}, {'author': 'Eunyoung Kim', 'paper_title': 'Scalable anisotropic cooling aerogels by additive freeze-casting', 'journal': 'Nature Communications'}, {'author': 'Heng Zhang', 'paper_title': 'Scalable anisotropic cooling aerogels by additive freeze-casting', 'journal': 'Nature Communications'}, {'author': 'Jeng-Hun Lee', 'paper_title': 'Scalable anisotropic cooling aerogels by additive freeze-casting', 'journal': 'Nature Communications'}, {'author': 'Jinhong Yu', 'paper_title': 'Scalable anisotropic cooling aerogels by additive freeze-casting', 'journal': 'Nature Communications'}, {'author': 'Jinglei Yang', 'paper_title': 'Scalable anisotropic cooling aerogels by additive freeze-casting', 'journal': 'Nature Communications'}, {'author': 'Jang-Kyo Kim', 'paper_title': 'Scalable anisotropic cooling aerogels by additive freeze-casting', 'journal': 'Nature Communications'}, {'author': 'Sijing Liu', 'paper_title': 'High p-and n-type thermopowers in stretchable self-healing ionogels', 'journal': 'Nano Energy'}, {'author': 'Yuewang Yang', 'paper_title': 'High p-and n-type thermopowers in stretchable self-healing ionogels', 'journal': 'Nano Energy'}, {'author': 'Shusheng Chen', 'paper_title': 'High p-and n-type thermopowers in stretchable self-healing ionogels', 'journal': 'Nano Energy'}, {'author': 'Jiongzhi Zheng', 'paper_title': 'High p-and n-type thermopowers in stretchable self-healing ionogels', 'journal': 'Nano Energy'}, {'author': 'Dong Gyu Lee', 'paper_title': 'High p-and n-type thermopowers in stretchable self-healing ionogels', 'journal': 'Nano Energy'}, {'author': 'Dan Li', 'paper_title': 'High p-and n-type thermopowers in stretchable self-healing ionogels', 'journal': 'Nano Energy'}, {'author': 'Jinglei Yang', 'paper_title': 'High p-and n-type thermopowers in stretchable self-healing ionogels', 'journal': 'Nano Energy'}, {'author': 'Baoling Huang', 'paper_title': 'High p-and n-type thermopowers in stretchable self-healing ionogels', 'journal': 'Nano Energy'}, {'author': 'Shixiang Yu', 'paper_title': 'Graphene-based lithium-ion battery anode materials manufactured by mechanochemical ball milling process: A review and perspective', 'journal': 'Composites Part B: Engineering'}, {'author': 'Binbin Guo', 'paper_title': 'Graphene-based lithium-ion battery anode materials manufactured by mechanochemical ball milling process: A review and perspective', 'journal': 'Composites Part B: Engineering'}, {'author': 'Tianbiao Zeng', 'paper_title': 'Graphene-based lithium-ion battery anode materials manufactured by mechanochemical ball milling process: A review and perspective', 'journal': 'Composites Part B: Engineering'}, {'author': 'Hongqiao Qu', 'paper_title': 'Graphene-based lithium-ion battery anode materials manufactured by mechanochemical ball milling process: A review and perspective', 'journal': 'Composites Part B: Engineering'}, {'author': 'Jinglei Yang', 'paper_title': 'Graphene-based lithium-ion battery anode materials manufactured by mechanochemical ball milling process: A review and perspective', 'journal': 'Composites Part B: Engineering'}, {'author': 'Jiaming Bai', 'paper_title': 'Graphene-based lithium-ion battery anode materials manufactured by mechanochemical ball milling process: A review and perspective', 'journal': 'Composites Part B: Engineering'}, {'author': 'Peilun Yao', 'paper_title': 'AI-enabled Automatic Molding Compound Selection for A Power Device with High Solder Joint Reliability', 'journal': '2022 23rd International Conference on Electronic Packaging Technology (ICEPT)'}, {'author': 'Haibin Chen', 'paper_title': 'AI-enabled Automatic Molding Compound Selection for A Power Device with High Solder Joint Reliability', 'journal': '2022 23rd International Conference on Electronic Packaging Technology (ICEPT)'}, {'author': 'Haibo Fan', 'paper_title': 'AI-enabled Automatic Molding Compound Selection for A Power Device with High Solder Joint Reliability', 'journal': '2022 23rd International Conference on Electronic Packaging Technology (ICEPT)'}, {'author': 'Jingshen Wu', 'paper_title': 'AI-enabled Automatic Molding Compound Selection for A Power Device with High Solder Joint Reliability', 'journal': '2022 23rd International Conference on Electronic Packaging Technology (ICEPT)'}, {'author': 'Jinglei Yang', 'paper_title': 'AI-enabled Automatic Molding Compound Selection for A Power Device with High Solder Joint Reliability', 'journal': '2022 23rd International Conference on Electronic Packaging Technology (ICEPT)'}, {'author': 'Zhenhao Liao', 'paper_title': 'Accelerating the Layup Sequences Design of Composite Laminates via Theory-Guided Machine Learning Models', 'journal': 'Polymers'}, {'author': 'Cheng Qiu', 'paper_title': 'Accelerating the Layup Sequences Design of Composite Laminates via Theory-Guided Machine Learning Models', 'journal': 'Polymers'}, {'author': 'Jun Yang', 'paper_title': 'Accelerating the Layup Sequences Design of Composite Laminates via Theory-Guided Machine Learning Models', 'journal': 'Polymers'}, {'author': 'Jinglei Yang', 'paper_title': 'Accelerating the Layup Sequences Design of Composite Laminates via Theory-Guided Machine Learning Models', 'journal': 'Polymers'}, {'author': 'Lei Yang', 'paper_title': 'Accelerating the Layup Sequences Design of Composite Laminates via Theory-Guided Machine Learning Models', 'journal': 'Polymers'}, {'author': 'Biyuan Liu', 'paper_title': 'Diffusion coefficient of ions through graphene nanopores', 'journal': 'AIP Advances'}, {'author': 'Le Zhou', 'paper_title': 'Diffusion coefficient of ions through graphene nanopores', 'journal': 'AIP Advances'}, {'author': 'Shuang Luo', 'paper_title': 'Diffusion coefficient of ions through graphene nanopores', 'journal': 'AIP Advances'}, {'author': 'Yanguang Zhou', 'paper_title': 'Diffusion coefficient of ions through graphene nanopores', 'journal': 'AIP Advances'}, {'author': 'Jinglei Yang', 'paper_title': 'Diffusion coefficient of ions through graphene nanopores', 'journal': 'AIP Advances'}, {'author': 'Zhigang Li', 'paper_title': 'Diffusion coefficient of ions through graphene nanopores', 'journal': 'AIP Advances'}, {'author': 'Kaixin Li', 'paper_title': 'Catalytic pyrolysis of film waste over Co/Ni pillared montmorillonites towards H2 production', 'journal': 'Chemosphere'}, {'author': 'Yiqian Wang', 'paper_title': 'Catalytic pyrolysis of film waste over Co/Ni pillared montmorillonites towards H2 production', 'journal': 'Chemosphere'}, {'author': 'Wenjie Zhou', 'paper_title': 'Catalytic pyrolysis of film waste over Co/Ni pillared montmorillonites towards H2 production', 'journal': 'Chemosphere'}, {'author': 'Tingting Cui', 'paper_title': 'Catalytic pyrolysis of film waste over Co/Ni pillared montmorillonites towards H2 production', 'journal': 'Chemosphere'}, {'author': 'Jinglei Yang', 'paper_title': 'Catalytic pyrolysis of film waste over Co/Ni pillared montmorillonites towards H2 production', 'journal': 'Chemosphere'}, {'author': 'Zhipeng Sun', 'paper_title': 'Catalytic pyrolysis of film waste over Co/Ni pillared montmorillonites towards H2 production', 'journal': 'Chemosphere'}, {'author': 'Yonggang Min', 'paper_title': 'Catalytic pyrolysis of film waste over Co/Ni pillared montmorillonites towards H2 production', 'journal': 'Chemosphere'}, {'author': 'Jong-Min Lee', 'paper_title': 'Catalytic pyrolysis of film waste over Co/Ni pillared montmorillonites towards H2 production', 'journal': 'Chemosphere'}, {'author': 'Hui Pan', 'paper_title': 'In situ investigation of the healing process in dual-microcapsule self-healing materials by the synchrotron radiation computed tomography', 'journal': 'Composites Part A: Applied Science and Manufacturing'}, {'author': 'Yongcun Li', 'paper_title': 'In situ investigation of the healing process in dual-microcapsule self-healing materials by the synchrotron radiation computed tomography', 'journal': 'Composites Part A: Applied Science and Manufacturing'}, {'author': 'Hao Zhang', 'paper_title': 'In situ investigation of the healing process in dual-microcapsule self-healing materials by the synchrotron radiation computed tomography', 'journal': 'Composites Part A: Applied Science and Manufacturing'}, {'author': 'Dawei Sun', 'paper_title': 'In situ investigation of the healing process in dual-microcapsule self-healing materials by the synchrotron radiation computed tomography', 'journal': 'Composites Part A: Applied Science and Manufacturing'}, {'author': 'Xiaofang Hu', 'paper_title': 'In situ investigation of the healing process in dual-microcapsule self-healing materials by the synchrotron radiation computed tomography', 'journal': 'Composites Part A: Applied Science and Manufacturing'}, {'author': 'Jinglei Yang', 'paper_title': 'In situ investigation of the healing process in dual-microcapsule self-healing materials by the synchrotron radiation computed tomography', 'journal': 'Composites Part A: Applied Science and Manufacturing'}, {'author': 'Feng Xu', 'paper_title': 'In situ investigation of the healing process in dual-microcapsule self-healing materials by the synchrotron radiation computed tomography', 'journal': 'Composites Part A: Applied Science and Manufacturing'}, {'author': 'Shengyuan Zhang', 'paper_title': 'Effective combination of modeling and experimental data with deep metric learning for guided wave-based damage localization in plates', 'journal': 'Mechanical Systems and Signal Processing'}, {'author': 'Chun Min Li', 'paper_title': 'Effective combination of modeling and experimental data with deep metric learning for guided wave-based damage localization in plates', 'journal': 'Mechanical Systems and Signal Processing'}, {'author': 'Jinglei Yang', 'paper_title': 'Effective combination of modeling and experimental data with deep metric learning for guided wave-based damage localization in plates', 'journal': 'Mechanical Systems and Signal Processing'}, {'author': 'Wenjing Ye', 'paper_title': 'Effective combination of modeling and experimental data with deep metric learning for guided wave-based damage localization in plates', 'journal': 'Mechanical Systems and Signal Processing'}, {'author': 'Man Kwan Law', 'paper_title': 'Highly transparent and super-wettable nanocoatings hybridized with isocyanate-silane modified surfactant for multifunctional applications', 'journal': 'Nano Materials Science'}, {'author': 'Ying Zhao', 'paper_title': 'Highly transparent and super-wettable nanocoatings hybridized with isocyanate-silane modified surfactant for multifunctional applications', 'journal': 'Nano Materials Science'}, {'author': 'Weibin Zhang', 'paper_title': 'Highly transparent and super-wettable nanocoatings hybridized with isocyanate-silane modified surfactant for multifunctional applications', 'journal': 'Nano Materials Science'}, {'author': 'Rui Wang', 'paper_title': 'Highly transparent and super-wettable nanocoatings hybridized with isocyanate-silane modified surfactant for multifunctional applications', 'journal': 'Nano Materials Science'}, {'author': 'Mingcheng Shi', 'paper_title': 'Highly transparent and super-wettable nanocoatings hybridized with isocyanate-silane modified surfactant for multifunctional applications', 'journal': 'Nano Materials Science'}, {'author': 'Yunxiao Zhang', 'paper_title': 'Highly transparent and super-wettable nanocoatings hybridized with isocyanate-silane modified surfactant for multifunctional applications', 'journal': 'Nano Materials Science'}, {'author': 'Shusheng Chen', 'paper_title': 'Highly transparent and super-wettable nanocoatings hybridized with isocyanate-silane modified surfactant for multifunctional applications', 'journal': 'Nano Materials Science'}, {'author': 'Jinglei Yang', 'paper_title': 'Highly transparent and super-wettable nanocoatings hybridized with isocyanate-silane modified surfactant for multifunctional applications', 'journal': 'Nano Materials Science'}]\n"
          ]
        }
      ],
      "source": [
        "import json\n",
        "\n",
        "# Open the JSON file and load the data\n",
        "with open('data.json', 'r') as file:\n",
        "    dataset = json.load(file)\n",
        "\n",
        "# Print the data\n",
        "print(dataset)"
      ]
    },
    {
      "cell_type": "code",
      "execution_count": null,
      "metadata": {
        "id": "u_aYtKIhJovq",
        "outputId": "9248599c-1a04-478c-814f-c8ec026596f2"
      },
      "outputs": [
        {
          "name": "stderr",
          "output_type": "stream",
          "text": [
            "\n",
            "KeyboardInterrupt\n",
            "\n"
          ]
        }
      ],
      "source": [
        "from neo4j import GraphDatabase\n",
        "\n",
        "# Connect to Neo4j\n",
        "uri = \"neo4j+s://0c5ddeaa.databases.neo4j.io\"  # Update with your Neo4j server URI\n",
        "username = \"neo4j\"  # Update with your Neo4j username\n",
        "password = db_password  # Update with your Neo4j password\n",
        "\n",
        "db_driver = GraphDatabase.driver(uri, auth=(username, password))\n",
        "\n",
        "# Create the dataset in Neo4j\n",
        "def create_dataset(tx, data):\n",
        "    for record in data:\n",
        "        tx.run(\n",
        "            \"\"\"\n",
        "            MERGE (a:Author {name: $author})\n",
        "            MERGE (p:Paper {title: $paper_title})\n",
        "            MERGE (j:Journal {name: $journal})\n",
        "            MERGE (a)-[:IS_AUTHOR]->(p)\n",
        "            MERGE (p)-[:PUBLISHED_IN]->(j)\n",
        "            \"\"\",\n",
        "            author=record[\"author\"],\n",
        "            paper_title=record[\"paper_title\"],\n",
        "            journal=record[\"journal\"]\n",
        "        )\n",
        "\n",
        "# Execute the dataset creation\n",
        "with db_driver.session() as session:\n",
        "    session.execute_write(create_dataset, dataset)\n",
        "\n",
        "# Close the Neo4j driver\n",
        "driver.close()"
      ]
    },
    {
      "cell_type": "code",
      "execution_count": null,
      "metadata": {
        "id": "xjyRfFXaJovr",
        "outputId": "e99cc79a-5afd-4222-c3da-f3329c2ba79a"
      },
      "outputs": [
        {
          "name": "stdout",
          "output_type": "stream",
          "text": [
            "[{'container_type': 'Publication', 'source': <PublicationSource.AUTHOR_PUBLICATION_ENTRY: 'AUTHOR_PUBLICATION_ENTRY'>, 'bib': {'title': 'Anisotropic thermally superinsulating boron nitride composite aerogel for building thermal management', 'pub_year': '2023', 'citation': 'Composites Part A: Applied Science and Manufacturing 169, 107522, 2023'}, 'filled': False, 'author_pub_id': '7wCHYtgAAAAJ:8dzOF9BpDQoC', 'num_citations': 0}, {'container_type': 'Publication', 'source': <PublicationSource.AUTHOR_PUBLICATION_ENTRY: 'AUTHOR_PUBLICATION_ENTRY'>, 'bib': {'title': 'Development of Sulfonamide‐Functionalized Charge‐Reversal AIE Photosensitizers for Precise Photodynamic Therapy in the Acidic Tumor Microenvironment', 'pub_year': '2023', 'citation': 'Advanced Functional Materials, 2300746, 2023'}, 'filled': False, 'author_pub_id': '7wCHYtgAAAAJ:hvmnpdAuIbkC', 'num_citations': 0}, {'container_type': 'Publication', 'source': <PublicationSource.AUTHOR_PUBLICATION_ENTRY: 'AUTHOR_PUBLICATION_ENTRY'>, 'bib': {'title': 'RFID with Multi-Sensing&Blockchain Empowered Digitalization of Chemical Inventory Management', 'pub_year': '2022', 'citation': '2022 3rd International Conference on Next Generation Computing Applications …, 2022'}, 'filled': False, 'author_pub_id': '7wCHYtgAAAAJ:MIg0yeAD4ggC', 'num_citations': 0}, {'container_type': 'Publication', 'source': <PublicationSource.AUTHOR_PUBLICATION_ENTRY: 'AUTHOR_PUBLICATION_ENTRY'>, 'bib': {'title': 'Accelerating the Layup Sequences Design of Composite Laminates via Theory-Guided Machine Learning Models', 'pub_year': '2022', 'citation': 'Polymers 14 (15), 3229, 2022'}, 'filled': False, 'author_pub_id': '7wCHYtgAAAAJ:ZqE1mSdD_DYC', 'num_citations': 0}, {'container_type': 'Publication', 'source': <PublicationSource.AUTHOR_PUBLICATION_ENTRY: 'AUTHOR_PUBLICATION_ENTRY'>, 'bib': {'title': 'Influence of Porosity on the Mechanical Properties of Hybrid Silver Sintered Joint', 'pub_year': '2021', 'citation': '2021 22nd International Conference on Electronic Packaging Technology (ICEPT …, 2021'}, 'filled': False, 'author_pub_id': '7wCHYtgAAAAJ:Wq2b2clWBLsC', 'num_citations': 0}, {'container_type': 'Publication', 'source': <PublicationSource.AUTHOR_PUBLICATION_ENTRY: 'AUTHOR_PUBLICATION_ENTRY'>, 'bib': {'title': 'Preface: Special Issue on Mechanical Behaviours of Functional Materials and Structures', 'pub_year': '2021', 'citation': 'Journal of Micromechanics and Molecular Physics 6 (03), v-v, 2021'}, 'filled': False, 'author_pub_id': '7wCHYtgAAAAJ:RuPIJ_LgqDgC', 'num_citations': 0}, {'container_type': 'Publication', 'source': <PublicationSource.AUTHOR_PUBLICATION_ENTRY: 'AUTHOR_PUBLICATION_ENTRY'>, 'bib': {'title': 'Synthesis of P Doped EDTA-Co Structure and Synergistic Effect of ORR as Electrochemical Catalyst', 'pub_year': '2019', 'citation': '폴리머 43 (6), 940-945, 2019'}, 'filled': False, 'author_pub_id': '7wCHYtgAAAAJ:zGdJYJv2LkUC', 'num_citations': 0}, {'container_type': 'Publication', 'source': <PublicationSource.AUTHOR_PUBLICATION_ENTRY: 'AUTHOR_PUBLICATION_ENTRY'>, 'bib': {'title': 'Fabrication of Water Soluble Polymer Capsules for Protecting Mineral Admixtures in Groundwater for Emergency Recovery of Sinkhole', 'pub_year': '2019', 'citation': 'Journal of Nanoscience and Nanotechnology 19 (3), 1649-1656, 2019'}, 'filled': False, 'author_pub_id': '7wCHYtgAAAAJ:k_7cPK9k7w8C', 'num_citations': 0}, {'container_type': 'Publication', 'source': <PublicationSource.AUTHOR_PUBLICATION_ENTRY: 'AUTHOR_PUBLICATION_ENTRY'>, 'bib': {'title': 'Mechanical response of encapsulated shear thickening fluid', 'pub_year': '2017', 'citation': '实验力学 32 (5), 627-633, 2017'}, 'filled': False, 'author_pub_id': '7wCHYtgAAAAJ:wvYxNZNCP7wC', 'num_citations': 0}, {'container_type': 'Publication', 'source': <PublicationSource.AUTHOR_PUBLICATION_ENTRY: 'AUTHOR_PUBLICATION_ENTRY'>, 'bib': {'title': 'Apparatus and method for fabricating microcontainers', 'pub_year': '2016', 'citation': 'US Patent 9,522,843, 2016'}, 'filled': False, 'author_pub_id': '7wCHYtgAAAAJ:PYBJJbyH-FwC', 'num_citations': 0}]\n"
          ]
        }
      ],
      "source": [
        "from scholarly import scholarly, ProxyGenerator\n",
        "\n",
        "pg = ProxyGenerator()\n",
        "pg.FreeProxies(timeout=10, wait_time=1200)\n",
        "scholarly.use_proxy(pg)\n",
        "\n",
        "def get_recent_publications(person_name):\n",
        "    search_query = scholarly.search_author(person_name)\n",
        "    author = scholarly.fill(next(search_query))\n",
        "    publications = author[\"publications\"]\n",
        "    return publications[-11:-1]\n",
        "\n",
        "# Example usage\n",
        "person_name = \"Jinglei Yang\"\n",
        "recent_publications = get_recent_publications(person_name)\n",
        "\n",
        "print(recent_publications)"
      ]
    },
    {
      "cell_type": "code",
      "execution_count": null,
      "metadata": {
        "id": "qylMsvUCJovs"
      },
      "outputs": [],
      "source": [
        "import json\n",
        "print(json.dumps(recent_publications, indent=4))"
      ]
    },
    {
      "cell_type": "code",
      "execution_count": null,
      "metadata": {
        "colab": {
          "referenced_widgets": [
            "a5153390910b4d01a589533e8fddc8b7"
          ]
        },
        "id": "6ZDxk-3hJovs",
        "outputId": "d190d291-2188-4c7f-eabd-0d1e538f9106"
      },
      "outputs": [
        {
          "data": {
            "application/vnd.jupyter.widget-view+json": {
              "model_id": "a5153390910b4d01a589533e8fddc8b7",
              "version_major": 2,
              "version_minor": 0
            },
            "text/plain": [
              "Text(value='', description='Input title')"
            ]
          },
          "metadata": {},
          "output_type": "display_data"
        }
      ],
      "source": [
        "import ipywidgets as widgets\n",
        "# Create a text widget\n",
        "text = widgets.Text(description=\"Input title\")\n",
        "# Display widget\n",
        "text"
      ]
    },
    {
      "cell_type": "code",
      "execution_count": null,
      "metadata": {
        "id": "piszuPoMJovt",
        "outputId": "7b54d22f-c5bd-4577-ff54-0d6cf1bfc610"
      },
      "outputs": [
        {
          "name": "stdout",
          "output_type": "stream",
          "text": [
            "{\n",
            "    \"container_type\": \"Publication\",\n",
            "    \"source\": \"PUBLICATION_SEARCH_SNIPPET\",\n",
            "    \"bib\": {\n",
            "        \"title\": \"Inner blast response of fiber reinforced aluminum tubes\",\n",
            "        \"author\": [\n",
            "            \"X Li\",\n",
            "            \"R Xu\",\n",
            "            \"X Zhang\",\n",
            "            \"H Zhang\",\n",
            "            \"J Yang\"\n",
            "        ],\n",
            "        \"pub_year\": \"2023\",\n",
            "        \"venue\": \"International Journal of Impact \\u2026\",\n",
            "        \"abstract\": \"In this work, the dynamic failure of Fiber Reinforced Metal Tubes (FRMTs) under inner blast load was experimentally investigated. The FRMTs was prepared by winding the basalt fiber or H-glass fiber onto the aluminum lining through filament winding process. The influence of explosive mass, winding angle and number of layers on the failure modes of FRMTs were obtained and discussed. The results showed that the fiber reinforced metal tubes performed better anti-blast performance compared to metallic tubes, in terms of deformation amount\"\n",
            "    },\n",
            "    \"filled\": false,\n",
            "    \"gsrank\": 1,\n",
            "    \"pub_url\": \"https://www.sciencedirect.com/science/article/pii/S0734743X22002561\",\n",
            "    \"author_id\": [\n",
            "        \"bc-skA8AAAAJ\",\n",
            "        \"\",\n",
            "        \"_xabZ_AAAAAJ\",\n",
            "        \"\",\n",
            "        \"7wCHYtgAAAAJ\"\n",
            "    ],\n",
            "    \"url_scholarbib\": \"/scholar?hl=en&q=info:XHVS6QaQrUgJ:scholar.google.com/&output=cite&scirp=0&hl=en\",\n",
            "    \"url_add_sclib\": \"/citations?hl=en&xsrf=&continue=/scholar%3Fq%3DInner%2Bblast%2Bresponse%2Bof%2Bfiber%2Breinforced%2Baluminum%2Btubes%26hl%3Den%26as_sdt%3D0,33&citilm=1&update_op=library_add&info=XHVS6QaQrUgJ&ei=ELvcZNaGOuyEywSarZKoBw&json=\",\n",
            "    \"num_citations\": 14,\n",
            "    \"citedby_url\": \"/scholar?cites=5237000301060453724&as_sdt=5,33&sciodt=0,33&hl=en\",\n",
            "    \"url_related_articles\": \"/scholar?q=related:XHVS6QaQrUgJ:scholar.google.com/&scioq=Inner+blast+response+of+fiber+reinforced+aluminum+tubes&hl=en&as_sdt=0,33\",\n",
            "    \"eprint_url\": \"https://www.sciencedirect.com/science/article/pii/S0734743X22002561\"\n",
            "}\n"
          ]
        }
      ],
      "source": [
        "from scholarly import scholarly\n",
        "import json\n",
        "\n",
        "def get_cited_articles(publication_title):\n",
        "    search_query = scholarly.search_pubs(publication_title)\n",
        "    data = next(search_query)\n",
        "    return data\n",
        "\n",
        "# Example usage\n",
        "publication_title = text.value\n",
        "cited_articles = get_cited_articles(publication_title)\n",
        "\n",
        "print(json.dumps(cited_articles, indent=4))"
      ]
    },
    {
      "cell_type": "code",
      "execution_count": null,
      "metadata": {
        "id": "bAojzH85Jovu"
      },
      "outputs": [],
      "source": [
        "from selenium import webdriver\n",
        "from selenium.webdriver.chrome.service import Service\n",
        "from selenium.webdriver.common.by import By\n",
        "from selenium.webdriver.chrome.options import Options\n",
        "from selenium.webdriver.common.action_chains import ActionChains\n",
        "from selenium.webdriver.common.keys import Keys\n",
        "from selenium.webdriver.support.ui import WebDriverWait\n",
        "from selenium.webdriver.support import expected_conditions as EC\n",
        "import json\n",
        "import ipywidgets as widgets\n",
        "from time import sleep\n",
        "\n",
        "NUM_PAPERS = 20\n",
        "\n",
        "# Path to the ChromeDriver executable that matches the installed Chrome browser version\n",
        "chromedriver_path = \"D:\\Hackust\\chromedriver.exe\"\n",
        "\n",
        "# Configure Chrome options\n",
        "chrome_options = Options()\n",
        "# chrome_options.add_argument(\"--headless\")  # Run Chrome in headless mode\n",
        "\n",
        "# Set up the ChromeDriver service\n",
        "service = Service(chromedriver_path)\n",
        "\n",
        "# Launch the Chrome browser\n",
        "driver = webdriver.Chrome(service=service, options=chrome_options)\n",
        "url = \"https://scholar.google.com\" + cited_articles[\"citedby_url\"]\n",
        "\n",
        "driver.get(url)\n",
        "# Wait for the page to load and find the list of papers\n",
        "wait = WebDriverWait(driver, 10)\n",
        "sleep(10)\n",
        "driver.quit()"
      ]
    },
    {
      "cell_type": "code",
      "execution_count": null,
      "metadata": {
        "id": "qoOufVBYJovu",
        "outputId": "2da513f6-c06a-4318-9fe4-974865f2a6cb"
      },
      "outputs": [
        {
          "name": "stdout",
          "output_type": "stream",
          "text": [
            "Requirement already satisfied: urllib3 in d:\\anaconda\\lib\\site-packages (1.26.4)Note: you may need to restart the kernel to use updated packages.\n",
            "\n"
          ]
        }
      ],
      "source": [
        "from selenium import webdriver\n",
        "from selenium.webdriver.chrome.service import Service\n",
        "from selenium.webdriver.common.by import By\n",
        "from selenium.webdriver.chrome.options import Options\n",
        "from selenium.webdriver.common.action_chains import ActionChains\n",
        "from selenium.webdriver.common.keys import Keys\n",
        "from selenium.webdriver.support.ui import WebDriverWait\n",
        "from selenium.webdriver.support import expected_conditions as EC\n",
        "import json\n",
        "import ipywidgets as widgets\n",
        "\n",
        "\n",
        "# Path to the ChromeDriver executable that matches the installed Chrome browser version\n",
        "chromedriver_path = \"D:\\Hackust\\chromedriver.exe\"\n",
        "\n",
        "# Configure Chrome options\n",
        "chrome_options = Options()\n",
        "chrome_options.add_argument(\"--headless\")  # Run Chrome in headless mode\n",
        "\n",
        "# Set up the ChromeDriver service\n",
        "service = Service(chromedriver_path)\n",
        "\n",
        "# Launch the Chrome browser\n",
        "driver = webdriver.Chrome(service=service, options=chrome_options)\n",
        "\n",
        "# Define the URL for Prof. Yang Jinglei's Google Scholar profile\n",
        "url = \"https://scholar.google.com/\"\n",
        "# get the url from ipywidget text box\n",
        "\n",
        "\n",
        "# Load the Google Scholar profile page\n",
        "driver.get(url)\n",
        "\n",
        "# Wait for the page to load and find the list of papers\n",
        "wait = WebDriverWait(driver, 10)\n",
        "papers = wait.until(EC.presence_of_all_elements_located((By.XPATH, '//*[@id=\"gs_hdr_tsi\"]')))"
      ]
    },
    {
      "attachments": {},
      "cell_type": "markdown",
      "metadata": {},
      "source": [
        "## constructing interactive demo using ipywidgets"
      ]
    },
    {
      "cell_type": "code",
      "execution_count": 6,
      "metadata": {
        "colab": {
          "referenced_widgets": [
            "e8dd06bc4d894ae8bb636ff9cb48a46b"
          ]
        },
        "id": "Hu2EU9uAJovv",
        "outputId": "ee6bf656-4b25-4bbd-cb04-3f9719daea44"
      },
      "outputs": [
        {
          "data": {
            "application/vnd.jupyter.widget-view+json": {
              "model_id": "8d0e6f55ecbb4b83b6cb4397a19231a9",
              "version_major": 2,
              "version_minor": 0
            },
            "text/plain": [
              "Text(value='', description='Input title')"
            ]
          },
          "metadata": {},
          "output_type": "display_data"
        }
      ],
      "source": [
        "import ipywidgets as widgets\n",
        "# Create a text widget\n",
        "text = widgets.Text(description=\"Input title\")\n",
        "# Display widget\n",
        "text"
      ]
    },
    {
      "cell_type": "code",
      "execution_count": null,
      "metadata": {
        "id": "_6YCcpJ2Jovw",
        "outputId": "26a28785-8a20-43b8-d7a7-d3ba46acf41f"
      },
      "outputs": [
        {
          "name": "stdout",
          "output_type": "stream",
          "text": [
            "1 have not found bib\n",
            "\n"
          ]
        }
      ],
      "source": [
        "from selenium import webdriver\n",
        "from urllib import parse\n",
        "from time import sleep\n",
        "\n",
        "class GetBibs():\n",
        "  def __init__(self, driver_path, option_path, ie_search_url, gg_search_url) -> None:\n",
        "    self.ie_search_url = ie_search_url\n",
        "    self.gg_search_url = gg_search_url\n",
        "\n",
        "    option = webdriver.ChromeOptions()\n",
        "    # option.add_argument(\"--user-data-dir=\"+option_path)\n",
        "    # option.add_argument(\"--headless\")\n",
        "    self.browser = webdriver.Chrome(options = option)   # open chrome\n",
        "    self.browser.set_window_size(800,800)\n",
        "\n",
        "  def get_bib_from_google_scholar(self, paper_title):\n",
        "    strto_pn=parse.quote(paper_title)\n",
        "    url = self.gg_search_url + strto_pn\n",
        "    self.browser.get(url)\n",
        "    # wait for the result to load\n",
        "    bib = \"have not found bib\"\n",
        "    for i in range(100):\n",
        "      try:\n",
        "        element=self.browser.find_element(By.CSS_SELECTOR,\"[class='gs_r gs_or gs_scl']\")\n",
        "        element=element.find_element(By.CSS_SELECTOR, \"[class=gs_fl gs_flb']\")\n",
        "        element=element.find_element(By.CSS_SELECTOR, \"[class='gs_or_cit gs_nph']\")\n",
        "        element.click()\n",
        "        break\n",
        "      except:\n",
        "        sleep(0.1)\n",
        "    for i in range(100):\n",
        "      try:\n",
        "        element=self.browser.find_element(By.ID, \"gs_citi\")\n",
        "        element=element.find_element(By.CSS_SELECTOR, \"[class='gs_citi']\")\n",
        "        element.click()\n",
        "        break\n",
        "      except:\n",
        "        sleep(0.1)\n",
        "    for i in range(100):\n",
        "      try:\n",
        "        bib = self.browser.find_element(By.TAG_NAME, 'pre').text\n",
        "        break\n",
        "      except:\n",
        "        sleep(0.1)\n",
        "    return bib\n",
        "\n",
        "  def get_bib(self, paper_title):\n",
        "    return self.get_bib_from_google_scholar(paper_title)\n",
        "\n",
        "driver_path = r'D:/Hackust/chromedriver.exe' # 浏览器驱动位置\n",
        "option_path = r\"C:/Users/Administrator/AppData/Local/Google/Chrome/User Data/\" # 使浏览器能用你自定义的设置，否则Selenium创建的浏览器对象是默认设置，一些插件就不能用了\n",
        "ie_search_url = r'https://ieeexplore.ieee.org/search/searchresult.jsp?newsearch=true&queryText=' # 在执行代码之前，先打开IEEE官网的搜索页面，把类似的网址复制到这里，等号=后面就是一会儿要搜索的内容\n",
        "gg_search_url = r'https://scholar.google.com/scholar?hl=zh-CN&as_sdt=0%2C5&inst=1597255436240989024&q=' # 谷歌学术也是一样\n",
        "get_bibs = GetBibs(driver_path, option_path, ie_search_url, gg_search_url)\n",
        "\n",
        "paper_titles = { # 要爬取的论文，key用于标记，value是论文题目。下面是一些样例\n",
        "  \"1\": \"Inner blast response of fiber reinforced aluminum tubes\",\n",
        "}\n",
        "\n",
        "for k in paper_titles.keys():\n",
        "  bib = get_bibs.get_bib(paper_titles[k])\n",
        "  print(k, bib)\n",
        "  print()\n"
      ]
    },
    {
      "attachments": {},
      "cell_type": "markdown",
      "metadata": {},
      "source": [
        "## attempted selenium_stealth, but there is still google captcha"
      ]
    },
    {
      "cell_type": "code",
      "execution_count": 5,
      "metadata": {},
      "outputs": [],
      "source": [
        "from selenium import webdriver\n",
        "from selenium.webdriver.chrome.service import Service as ChromeService\n",
        "\n",
        "from selenium_stealth import stealth\n",
        "import random\n",
        "\n",
        "path = \"D:\\\\wym_project\\\\flask-llm-pdf-analyzer\\\\chromedriver.exe\"\n",
        "# create a new Service instance and specify path to Chromedriver executable\n",
        "service = ChromeService(executable_path=path)\n",
        "\n",
        "# Step 2: Change browser properties\n",
        "# create a ChromeOptions object\n",
        "options = webdriver.ChromeOptions()\n",
        "\n",
        "#run in headless mode\n",
        "options.add_argument(\"--headless\")\n",
        "\n",
        "# disable the AutomationControlled feature of Blink rendering engine\n",
        "options.add_argument('--disable-blink-features=AutomationControlled')\n",
        " \n",
        "# disable pop-up blocking\n",
        "options.add_argument('--disable-popup-blocking')\n",
        " \n",
        "# start the browser window in maximized mode\n",
        "options.add_argument('--start-maximized')\n",
        " \n",
        "# disable extensions\n",
        "options.add_argument('--disable-extensions')\n",
        " \n",
        "# disable sandbox mode\n",
        "options.add_argument('--no-sandbox')\n",
        " \n",
        "# disable shared memory usage\n",
        "options.add_argument('--disable-dev-shm-usage')\n",
        "\n",
        "\n",
        "# Set navigator.webdriver to undefined\n",
        "# create a driver instance\n",
        "driver = webdriver.Chrome(service=service, options=options)\n",
        "\n",
        "# Change the property value of the navigator for webdriver to undefined\n",
        "driver.execute_script(\"Object.defineProperty(navigator, 'webdriver', {get: () => undefined})\")\n",
        "\n",
        "\n",
        "\n",
        "# Step 3: Rotate user agents \n",
        "user_agents = [\n",
        "    # Add your list of user agents here\n",
        "    'Mozilla/5.0 (Windows NT 10.0; Win64; x64) AppleWebKit/537.36 (KHTML, like Gecko) Chrome/109.0.0.0 Safari/537.36',\n",
        "    'Mozilla/5.0 (Macintosh; Intel Mac OS X 10_15_7) AppleWebKit/537.36 (KHTML, like Gecko) Chrome/109.0.0.0 Safari/537.36',\n",
        "    'Mozilla/5.0 (Windows NT 10.0; Win64; x64) AppleWebKit/537.36 (KHTML, like Gecko) Chrome/108.0.0.0 Safari/537.36',\n",
        "    'Mozilla/5.0 (Macintosh; Intel Mac OS X 10_15_7) AppleWebKit/537.36 (KHTML, like Gecko) Chrome/108.0.0.0 Safari/537.36',\n",
        "    'Mozilla/5.0 (X11; Linux x86_64) AppleWebKit/537.36 (KHTML, like Gecko) Chrome/108.0.0.0 Safari/537.36',\n",
        "    'Mozilla/5.0 (Macintosh; Intel Mac OS X 10_15_7) AppleWebKit/605.1.15 (KHTML, like Gecko) Version/16.1 Safari/605.1.15',\n",
        "    'Mozilla/5.0 (Macintosh; Intel Mac OS X 13_1) AppleWebKit/605.1.15 (KHTML, like Gecko) Version/16.1 Safari/605.1.15',\n",
        "]\n",
        "\n",
        "# select random user agent\n",
        "user_agent = random.choice(user_agents)\n",
        "\n",
        "# pass in selected user agent as an argument\n",
        "options.add_argument(f'user-agent={user_agent}')\n",
        "\n",
        "\n",
        "# Step 4: Scrape using Stealth\n",
        "#enable stealth mode\n",
        "stealth(driver,\n",
        "        languages=[\"en-US\", \"en\"],\n",
        "        vendor=\"Google Inc.\",\n",
        "        platform=\"Win32\",\n",
        "        webgl_vendor=\"Intel Inc.\",\n",
        "        renderer=\"Intel Iris OpenGL Engine\",\n",
        "        fix_hairline=True,\n",
        "        )\n",
        "\n",
        "# navigate to opensea\n",
        "driver.get(\"https://scholar.google.com/scholar?cites=5237000301060453724&as_sdt=2005&sciodt=0,5&hl=en\")\n",
        " \n",
        "# Wait for page to load\n",
        "\n",
        "# Take screenshot\n",
        "driver.save_screenshot(\"opensea.png\")\n",
        " \n",
        "# Close browser\n",
        "driver.quit()\n"
      ]
    }
  ],
  "metadata": {
    "colab": {
      "provenance": []
    },
    "kernelspec": {
      "display_name": "Python 3",
      "language": "python",
      "name": "python3"
    },
    "language_info": {
      "codemirror_mode": {
        "name": "ipython",
        "version": 3
      },
      "file_extension": ".py",
      "mimetype": "text/x-python",
      "name": "python",
      "nbconvert_exporter": "python",
      "pygments_lexer": "ipython3",
      "version": "3.8.8"
    },
    "orig_nbformat": 4
  },
  "nbformat": 4,
  "nbformat_minor": 0
}
